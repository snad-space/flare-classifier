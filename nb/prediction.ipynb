{
 "cells": [
  {
   "cell_type": "code",
   "execution_count": 1,
   "id": "8e714fb0-cd97-4052-a28a-500e8022ce5b",
   "metadata": {
    "execution": {
     "iopub.execute_input": "2024-05-15T15:02:36.026568Z",
     "iopub.status.busy": "2024-05-15T15:02:36.025942Z",
     "iopub.status.idle": "2024-05-15T15:02:39.345065Z",
     "shell.execute_reply": "2024-05-15T15:02:39.344387Z",
     "shell.execute_reply.started": "2024-05-15T15:02:36.026532Z"
    },
    "tags": []
   },
   "outputs": [],
   "source": [
    "import pickle\n",
    "import os\n",
    "import sys\n",
    "import warnings\n",
    "\n",
    "import numpy as np\n",
    "import pandas as pd\n",
    "from sklearn.calibration import CalibratedClassifierCV, CalibrationDisplay\n",
    "from sklearn.ensemble import RandomForestClassifier\n",
    "\n",
    "sys.path.append('../src/flare_classifier')\n",
    "import mlprocessing as mlp\n",
    "import postfilter as pf\n",
    "from mlprocessing import CatBoostClassifierCalibrate\n"
   ]
  },
  {
   "cell_type": "markdown",
   "id": "5839df4a-fa4e-40c7-b733-af3c322c8add",
   "metadata": {},
   "source": [
    "# 1. Predict real data"
   ]
  },
  {
   "cell_type": "code",
   "execution_count": null,
   "id": "8172ac3a-38bc-4a40-8b79-495c799794e5",
   "metadata": {
    "tags": []
   },
   "outputs": [],
   "source": [
    "%%time\n",
    "\n",
    "warnings.filterwarnings('ignore')\n",
    "\n",
    "mlp.predict_real_data()"
   ]
  },
  {
   "cell_type": "markdown",
   "id": "d767b807-29bc-4194-8e0f-b68ac2d5a747",
   "metadata": {},
   "source": [
    "# 2. Postfilter"
   ]
  },
  {
   "cell_type": "code",
   "execution_count": null,
   "id": "75333e9e-fee8-4b97-831c-80d69d6069ea",
   "metadata": {
    "tags": []
   },
   "outputs": [],
   "source": [
    "%%time\n",
    "\n",
    "result = pf.get_data_to_postfilter(threshold=0.9)"
   ]
  },
  {
   "cell_type": "code",
   "execution_count": null,
   "id": "4ed2bf39-f8a6-446c-9e0d-6a3b91f6f72b",
   "metadata": {
    "tags": []
   },
   "outputs": [],
   "source": [
    "result.shape"
   ]
  },
  {
   "cell_type": "code",
   "execution_count": null,
   "id": "fdf64b6a-d44e-4400-a344-78ba5f055dbe",
   "metadata": {
    "tags": []
   },
   "outputs": [],
   "source": [
    "%%time\n",
    "result = pd.read_csv('../data/predict-data/all_fields_threshold-0.9.csv')\n",
    "result['min_prob'].hist(bins=100)"
   ]
  },
  {
   "cell_type": "code",
   "execution_count": null,
   "id": "04ba8c39-8899-47a2-b39e-1ed0367dd166",
   "metadata": {
    "tags": []
   },
   "outputs": [],
   "source": [
    "result[result['min_prob']>0.98].shape"
   ]
  },
  {
   "cell_type": "code",
   "execution_count": null,
   "id": "e303b1e8-80a8-4897-a600-2ed7732b0cf9",
   "metadata": {},
   "outputs": [],
   "source": [
    "pred_result = pd.read_csv('../data/predict-data/all_fields_0.96.csv')\n",
    "pred_result.shape"
   ]
  },
  {
   "cell_type": "code",
   "execution_count": null,
   "id": "118cd40b-3b6f-45ac-862b-44f9bef75927",
   "metadata": {},
   "outputs": [],
   "source": [
    "pred_result['min_prob'].hist(bins=100)"
   ]
  },
  {
   "cell_type": "code",
   "execution_count": null,
   "id": "b92ed4b5-0755-4a6c-b373-a3dab67eb361",
   "metadata": {},
   "outputs": [],
   "source": [
    "result[result['min_prob']>0.98].to_csv('../data/predict-data/all_fields_0.98.csv', index=False)"
   ]
  },
  {
   "cell_type": "code",
   "execution_count": null,
   "id": "52bd60be-a101-4399-9575-1ba9ca8c9c68",
   "metadata": {
    "tags": []
   },
   "outputs": [],
   "source": [
    "result = pd.read_csv('../data/predict-data/all_fields_0.98.csv')\n",
    "result = pf.get_coordinats_to_candidates(\n",
    "     '../data/predict-data/all_fields_0.98.csv'\n",
    ")"
   ]
  },
  {
   "cell_type": "code",
   "execution_count": null,
   "id": "3e89d185-46bc-4c11-a814-4619c9d3698e",
   "metadata": {},
   "outputs": [],
   "source": [
    "result.info()"
   ]
  },
  {
   "cell_type": "code",
   "execution_count": null,
   "id": "4c3a9bb2-f8b0-4558-825d-aa64babd90d5",
   "metadata": {
    "tags": []
   },
   "outputs": [],
   "source": [
    "result = pd.read_csv('../data/predict-data/all_fields_0.98_coord.csv')\n",
    "result = pf.search_asteroids(result)\n",
    "result.to_csv('../data/predict-data/all_fields_0.98_asteroid.csv', index=False)"
   ]
  },
  {
   "cell_type": "code",
   "execution_count": null,
   "id": "933f3e6a-a5cf-4a45-b53c-ae8b37b4d501",
   "metadata": {
    "tags": []
   },
   "outputs": [],
   "source": [
    "result = pd.read_csv('../data/predict-data/all_fields_0.98_asteroid.csv')\n",
    "result.asteroid.value_counts()"
   ]
  },
  {
   "cell_type": "code",
   "execution_count": null,
   "id": "3b295899-3c93-4acd-a3d7-784ced0197fe",
   "metadata": {
    "tags": []
   },
   "outputs": [],
   "source": [
    "result = pd.merge(\n",
    "    result,\n",
    "    df_pred[['oid', 'flare_start', 'sharpness_flare_start', 'sharpness_time_maximum']],\n",
    "    how='left',\n",
    "    on=['oid', 'flare_start']\n",
    ")\n",
    "result.info()"
   ]
  },
  {
   "cell_type": "code",
   "execution_count": null,
   "id": "d7a969c0-e018-4d7d-87d7-6d130f48fd69",
   "metadata": {},
   "outputs": [],
   "source": [
    "result.to_csv('../data/predict-data/all_fields_0.98_part_sharpness.csv', index=False)"
   ]
  },
  {
   "cell_type": "code",
   "execution_count": 11,
   "id": "0d1beb59-593b-4889-8f98-1425643ec7d5",
   "metadata": {
    "tags": []
   },
   "outputs": [
    {
     "name": "stderr",
     "output_type": "stream",
     "text": [
      " 84%|████████▎ | 36709/43918 [17:40:02<3:16:33,  1.64s/it]"
     ]
    },
    {
     "name": "stdout",
     "output_type": "stream",
     "text": [
      "Exception message [Errno 110] Connection timed out\n"
     ]
    },
    {
     "name": "stderr",
     "output_type": "stream",
     "text": [
      " 85%|████████▍ | 37243/43918 [17:57:04<3:17:04,  1.77s/it]  "
     ]
    },
    {
     "name": "stdout",
     "output_type": "stream",
     "text": [
      "Exception message [Errno 110] Connection timed out\n"
     ]
    },
    {
     "name": "stderr",
     "output_type": "stream",
     "text": [
      " 85%|████████▌ | 37522/43918 [18:07:32<4:35:42,  2.59s/it]  "
     ]
    },
    {
     "name": "stdout",
     "output_type": "stream",
     "text": [
      "Exception message [Errno 110] Connection timed out\n"
     ]
    },
    {
     "name": "stderr",
     "output_type": "stream",
     "text": [
      " 87%|████████▋ | 38035/43918 [18:24:28<2:24:26,  1.47s/it] "
     ]
    },
    {
     "name": "stdout",
     "output_type": "stream",
     "text": [
      "Exception message [Errno 110] Connection timed out\n"
     ]
    },
    {
     "name": "stderr",
     "output_type": "stream",
     "text": [
      " 87%|████████▋ | 38317/43918 [18:37:40<4:42:14,  3.02s/it] "
     ]
    },
    {
     "name": "stdout",
     "output_type": "stream",
     "text": [
      "Exception message [Errno 110] Connection timed out\n"
     ]
    },
    {
     "name": "stderr",
     "output_type": "stream",
     "text": [
      " 90%|████████▉ | 39336/43918 [19:11:20<4:00:10,  3.14s/it] "
     ]
    },
    {
     "name": "stdout",
     "output_type": "stream",
     "text": [
      "Exception message [Errno 110] Connection timed out\n"
     ]
    },
    {
     "name": "stderr",
     "output_type": "stream",
     "text": [
      " 91%|█████████ | 39909/43918 [19:31:44<2:34:03,  2.31s/it] "
     ]
    },
    {
     "name": "stdout",
     "output_type": "stream",
     "text": [
      "Exception message [Errno 110] Connection timed out\n"
     ]
    },
    {
     "name": "stderr",
     "output_type": "stream",
     "text": [
      " 92%|█████████▏| 40337/43918 [19:48:47<2:37:03,  2.63s/it] "
     ]
    },
    {
     "name": "stdout",
     "output_type": "stream",
     "text": [
      "Exception message [Errno 110] Connection timed out\n"
     ]
    },
    {
     "name": "stderr",
     "output_type": "stream",
     "text": [
      " 93%|█████████▎| 40928/43918 [20:12:18<1:26:27,  1.73s/it] "
     ]
    },
    {
     "name": "stdout",
     "output_type": "stream",
     "text": [
      "Exception message [Errno 110] Connection timed out\n"
     ]
    },
    {
     "name": "stderr",
     "output_type": "stream",
     "text": [
      " 93%|█████████▎| 41055/43918 [20:23:11<2:22:48,  2.99s/it] "
     ]
    },
    {
     "name": "stdout",
     "output_type": "stream",
     "text": [
      "Exception message [Errno 110] Connection timed out\n"
     ]
    },
    {
     "name": "stderr",
     "output_type": "stream",
     "text": [
      " 94%|█████████▍| 41421/43918 [20:43:39<1:20:08,  1.93s/it] "
     ]
    },
    {
     "name": "stdout",
     "output_type": "stream",
     "text": [
      "Exception message [Errno 110] Connection timed out\n"
     ]
    },
    {
     "name": "stderr",
     "output_type": "stream",
     "text": [
      " 96%|█████████▋| 42295/43918 [21:16:31<59:28,  2.20s/it]   "
     ]
    },
    {
     "name": "stdout",
     "output_type": "stream",
     "text": [
      "Exception message [Errno 110] Connection timed out\n"
     ]
    },
    {
     "name": "stderr",
     "output_type": "stream",
     "text": [
      " 97%|█████████▋| 42383/43918 [21:24:03<1:33:50,  3.67s/it] "
     ]
    },
    {
     "name": "stdout",
     "output_type": "stream",
     "text": [
      "Exception message [Errno 110] Connection timed out\n"
     ]
    },
    {
     "name": "stderr",
     "output_type": "stream",
     "text": [
      " 97%|█████████▋| 42554/43918 [21:37:06<43:45,  1.93s/it]   "
     ]
    },
    {
     "name": "stdout",
     "output_type": "stream",
     "text": [
      "Exception message [Errno 110] Connection timed out\n"
     ]
    },
    {
     "name": "stderr",
     "output_type": "stream",
     "text": [
      " 98%|█████████▊| 42865/43918 [21:49:28<20:48,  1.19s/it]   "
     ]
    },
    {
     "name": "stdout",
     "output_type": "stream",
     "text": [
      "Exception message [Errno 110] Connection timed out\n"
     ]
    },
    {
     "name": "stderr",
     "output_type": "stream",
     "text": [
      " 98%|█████████▊| 43160/43918 [22:01:54<31:19,  2.48s/it]   "
     ]
    },
    {
     "name": "stdout",
     "output_type": "stream",
     "text": [
      "Exception message [Errno 110] Connection timed out\n"
     ]
    },
    {
     "name": "stderr",
     "output_type": "stream",
     "text": [
      " 99%|█████████▉| 43675/43918 [22:27:51<10:24,  2.57s/it]   "
     ]
    },
    {
     "name": "stdout",
     "output_type": "stream",
     "text": [
      "Exception message [Errno 110] Connection timed out\n"
     ]
    },
    {
     "name": "stderr",
     "output_type": "stream",
     "text": [
      "100%|█████████▉| 43849/43918 [22:36:49<01:57,  1.70s/it]  "
     ]
    },
    {
     "name": "stdout",
     "output_type": "stream",
     "text": [
      "Exception message [Errno 110] Connection timed out\n"
     ]
    },
    {
     "name": "stderr",
     "output_type": "stream",
     "text": [
      "100%|██████████| 43918/43918 [22:42:23<00:00,  1.86s/it]  \n"
     ]
    }
   ],
   "source": [
    "warnings.filterwarnings('ignore')\n",
    "result = pd.read_csv('../data/predict-data/all_fields_0.98_part_sharpness.csv')\n",
    "result = result[result.asteroid==False]\n",
    "result_sharpness = pf.get_sharpness(result)\n",
    "result_sharpness.to_csv('../data/predict-data/all_fields_0.98_sharpness.csv', index=False)"
   ]
  },
  {
   "cell_type": "code",
   "execution_count": 13,
   "id": "3b27c779-78b6-4392-86f4-d42a2859ece9",
   "metadata": {
    "execution": {
     "iopub.execute_input": "2024-05-15T12:44:56.108832Z",
     "iopub.status.busy": "2024-05-15T12:44:56.108185Z",
     "iopub.status.idle": "2024-05-15T12:44:56.241771Z",
     "shell.execute_reply": "2024-05-15T12:44:56.241100Z",
     "shell.execute_reply.started": "2024-05-15T12:44:56.108800Z"
    },
    "tags": []
   },
   "outputs": [
    {
     "name": "stdout",
     "output_type": "stream",
     "text": [
      "<class 'pandas.core.frame.DataFrame'>\n",
      "RangeIndex: 43918 entries, 0 to 43917\n",
      "Data columns (total 15 columns):\n",
      " #   Column                  Non-Null Count  Dtype  \n",
      "---  ------                  --------------  -----  \n",
      " 0   field                   43918 non-null  int64  \n",
      " 1   oid                     43918 non-null  int64  \n",
      " 2   flare_start             43918 non-null  float64\n",
      " 3   time_maximum            43918 non-null  float64\n",
      " 4   fwhm_start              43918 non-null  float64\n",
      " 5   fwhm_maximum            43918 non-null  float64\n",
      " 6   min_prob                43918 non-null  float64\n",
      " 7   diff_fwhm               43918 non-null  float64\n",
      " 8   ra                      43918 non-null  float64\n",
      " 9   dec                     43918 non-null  float64\n",
      " 10  asteroid                43918 non-null  bool   \n",
      " 11  asteroid_name           43918 non-null  object \n",
      " 12  sharpness_flare_start   41301 non-null  float64\n",
      " 13  sharpness_time_maximum  41301 non-null  float64\n",
      " 14  diff_sharpness          41301 non-null  float64\n",
      "dtypes: bool(1), float64(11), int64(2), object(1)\n",
      "memory usage: 4.7+ MB\n",
      "<class 'pandas.core.frame.DataFrame'>\n",
      "Int64Index: 41301 entries, 0 to 43917\n",
      "Data columns (total 15 columns):\n",
      " #   Column                  Non-Null Count  Dtype  \n",
      "---  ------                  --------------  -----  \n",
      " 0   field                   41301 non-null  int64  \n",
      " 1   oid                     41301 non-null  int64  \n",
      " 2   flare_start             41301 non-null  float64\n",
      " 3   time_maximum            41301 non-null  float64\n",
      " 4   fwhm_start              41301 non-null  float64\n",
      " 5   fwhm_maximum            41301 non-null  float64\n",
      " 6   min_prob                41301 non-null  float64\n",
      " 7   diff_fwhm               41301 non-null  float64\n",
      " 8   ra                      41301 non-null  float64\n",
      " 9   dec                     41301 non-null  float64\n",
      " 10  asteroid                41301 non-null  bool   \n",
      " 11  asteroid_name           41301 non-null  object \n",
      " 12  sharpness_flare_start   41301 non-null  float64\n",
      " 13  sharpness_time_maximum  41301 non-null  float64\n",
      " 14  diff_sharpness          41301 non-null  float64\n",
      "dtypes: bool(1), float64(11), int64(2), object(1)\n",
      "memory usage: 4.8+ MB\n"
     ]
    }
   ],
   "source": [
    "result_sharpness = pd.read_csv('../data/predict-data/all_fields_0.98_sharpness.csv').drop(['exposure_id_start', 'exposure_id_maximum'], axis=1)\n",
    "result_sharpness.info()\n",
    "result_sharpness = result_sharpness.dropna()\n",
    "result_sharpness.info()"
   ]
  },
  {
   "cell_type": "code",
   "execution_count": 14,
   "id": "04f14b65-4e9d-44f5-a523-68a99beee3e4",
   "metadata": {
    "execution": {
     "iopub.execute_input": "2024-05-15T12:45:41.548035Z",
     "iopub.status.busy": "2024-05-15T12:45:41.547240Z",
     "iopub.status.idle": "2024-05-15T12:45:42.236398Z",
     "shell.execute_reply": "2024-05-15T12:45:42.235710Z",
     "shell.execute_reply.started": "2024-05-15T12:45:41.548004Z"
    },
    "tags": []
   },
   "outputs": [
    {
     "name": "stdout",
     "output_type": "stream",
     "text": [
      "prediction done\n",
      "CPU times: user 757 ms, sys: 826 ms, total: 1.58 s\n",
      "Wall time: 673 ms\n"
     ]
    }
   ],
   "source": [
    "%%time\n",
    "\n",
    "scaler = pickle.load(open('../models/scaler_postfilter.pkl', 'rb'))\n",
    "logreg = pickle.load(open('../models/logreg_postfilter.pkl', 'rb'))\n",
    "feature_cols = [\n",
    "    'sharpness_flare_start',\n",
    "    'sharpness_time_maximum',\n",
    "    'diff_sharpness',\n",
    "    'fwhm_start',\n",
    "    'fwhm_maximum',\n",
    "    'diff_fwhm',\n",
    "]\n",
    "x = result_sharpness[feature_cols]\n",
    "x_sc = scaler.transform(x)\n",
    "result_sharpness['postfilter_prob'] = logreg.predict_proba(x_sc)[::, 1]\n",
    "result_sharpness.to_csv(\n",
    "    '../data/predict-data/all_fields_postfilter_0.98.csv', index=False\n",
    ")\n",
    "print('prediction done')"
   ]
  },
  {
   "cell_type": "markdown",
   "id": "c45c6425-5c82-4b86-9d56-ab98dd7ee603",
   "metadata": {},
   "source": [
    "# Analys postfilter predict"
   ]
  },
  {
   "cell_type": "code",
   "execution_count": 15,
   "id": "250d9811-b742-42ab-9f53-6140da399a5d",
   "metadata": {
    "execution": {
     "iopub.execute_input": "2024-05-15T12:46:02.692679Z",
     "iopub.status.busy": "2024-05-15T12:46:02.691978Z",
     "iopub.status.idle": "2024-05-15T12:46:02.860654Z",
     "shell.execute_reply": "2024-05-15T12:46:02.859869Z",
     "shell.execute_reply.started": "2024-05-15T12:46:02.692636Z"
    },
    "tags": []
   },
   "outputs": [
    {
     "data": {
      "text/html": [
       "<div>\n",
       "<style scoped>\n",
       "    .dataframe tbody tr th:only-of-type {\n",
       "        vertical-align: middle;\n",
       "    }\n",
       "\n",
       "    .dataframe tbody tr th {\n",
       "        vertical-align: top;\n",
       "    }\n",
       "\n",
       "    .dataframe thead th {\n",
       "        text-align: right;\n",
       "    }\n",
       "</style>\n",
       "<table border=\"1\" class=\"dataframe\">\n",
       "  <thead>\n",
       "    <tr style=\"text-align: right;\">\n",
       "      <th></th>\n",
       "      <th>field</th>\n",
       "      <th>oid</th>\n",
       "      <th>flare_start</th>\n",
       "      <th>time_maximum</th>\n",
       "      <th>fwhm_start</th>\n",
       "      <th>fwhm_maximum</th>\n",
       "      <th>min_prob</th>\n",
       "      <th>diff_fwhm</th>\n",
       "      <th>ra</th>\n",
       "      <th>dec</th>\n",
       "      <th>asteroid</th>\n",
       "      <th>asteroid_name</th>\n",
       "      <th>sharpness_flare_start</th>\n",
       "      <th>sharpness_time_maximum</th>\n",
       "      <th>diff_sharpness</th>\n",
       "      <th>postfilter_prob</th>\n",
       "    </tr>\n",
       "  </thead>\n",
       "  <tbody>\n",
       "    <tr>\n",
       "      <th>0</th>\n",
       "      <td>257</td>\n",
       "      <td>257203200000012</td>\n",
       "      <td>58471.30542</td>\n",
       "      <td>58471.33327</td>\n",
       "      <td>2.456885</td>\n",
       "      <td>4.210275</td>\n",
       "      <td>0.982524</td>\n",
       "      <td>-1.753390</td>\n",
       "      <td>87.977554</td>\n",
       "      <td>-26.233704</td>\n",
       "      <td>False</td>\n",
       "      <td>No object</td>\n",
       "      <td>0.057</td>\n",
       "      <td>-0.018</td>\n",
       "      <td>0.075</td>\n",
       "      <td>0.967722</td>\n",
       "    </tr>\n",
       "    <tr>\n",
       "      <th>1</th>\n",
       "      <td>257</td>\n",
       "      <td>257204100006526</td>\n",
       "      <td>58472.29658</td>\n",
       "      <td>58472.34094</td>\n",
       "      <td>2.383465</td>\n",
       "      <td>2.397610</td>\n",
       "      <td>0.997666</td>\n",
       "      <td>-0.014145</td>\n",
       "      <td>87.594658</td>\n",
       "      <td>-26.573435</td>\n",
       "      <td>False</td>\n",
       "      <td>No object</td>\n",
       "      <td>-0.028</td>\n",
       "      <td>-0.012</td>\n",
       "      <td>-0.016</td>\n",
       "      <td>0.999487</td>\n",
       "    </tr>\n",
       "    <tr>\n",
       "      <th>2</th>\n",
       "      <td>257</td>\n",
       "      <td>257204100002386</td>\n",
       "      <td>58468.30841</td>\n",
       "      <td>58468.37145</td>\n",
       "      <td>2.468960</td>\n",
       "      <td>2.293200</td>\n",
       "      <td>0.982524</td>\n",
       "      <td>0.175760</td>\n",
       "      <td>87.655884</td>\n",
       "      <td>-26.356758</td>\n",
       "      <td>False</td>\n",
       "      <td>No object</td>\n",
       "      <td>-0.056</td>\n",
       "      <td>-0.024</td>\n",
       "      <td>-0.032</td>\n",
       "      <td>0.999797</td>\n",
       "    </tr>\n",
       "    <tr>\n",
       "      <th>3</th>\n",
       "      <td>257</td>\n",
       "      <td>257214400000097</td>\n",
       "      <td>58471.29662</td>\n",
       "      <td>58471.30803</td>\n",
       "      <td>3.272000</td>\n",
       "      <td>2.302590</td>\n",
       "      <td>0.980793</td>\n",
       "      <td>0.969410</td>\n",
       "      <td>91.480103</td>\n",
       "      <td>-21.357557</td>\n",
       "      <td>False</td>\n",
       "      <td>No object</td>\n",
       "      <td>-0.004</td>\n",
       "      <td>-0.020</td>\n",
       "      <td>0.016</td>\n",
       "      <td>0.999564</td>\n",
       "    </tr>\n",
       "    <tr>\n",
       "      <th>4</th>\n",
       "      <td>257</td>\n",
       "      <td>257214400015143</td>\n",
       "      <td>58472.29690</td>\n",
       "      <td>58472.33853</td>\n",
       "      <td>2.383465</td>\n",
       "      <td>2.462460</td>\n",
       "      <td>0.995623</td>\n",
       "      <td>-0.078995</td>\n",
       "      <td>91.239693</td>\n",
       "      <td>-22.048550</td>\n",
       "      <td>False</td>\n",
       "      <td>No object</td>\n",
       "      <td>-0.037</td>\n",
       "      <td>-0.003</td>\n",
       "      <td>-0.034</td>\n",
       "      <td>0.999389</td>\n",
       "    </tr>\n",
       "  </tbody>\n",
       "</table>\n",
       "</div>"
      ],
      "text/plain": [
       "   field              oid  ...  diff_sharpness  postfilter_prob\n",
       "0    257  257203200000012  ...           0.075         0.967722\n",
       "1    257  257204100006526  ...          -0.016         0.999487\n",
       "2    257  257204100002386  ...          -0.032         0.999797\n",
       "3    257  257214400000097  ...           0.016         0.999564\n",
       "4    257  257214400015143  ...          -0.034         0.999389\n",
       "\n",
       "[5 rows x 16 columns]"
      ]
     },
     "execution_count": 15,
     "metadata": {},
     "output_type": "execute_result"
    }
   ],
   "source": [
    "df = pd.read_csv('../data/predict-data/all_fields_postfilter_0.98.csv')\n",
    "df = df[df.asteroid==False]\n",
    "df.head()"
   ]
  },
  {
   "cell_type": "code",
   "execution_count": 18,
   "id": "d428ce75-65a4-4067-b4dd-effe83377200",
   "metadata": {
    "execution": {
     "iopub.execute_input": "2024-05-15T12:46:52.087504Z",
     "iopub.status.busy": "2024-05-15T12:46:52.086787Z",
     "iopub.status.idle": "2024-05-15T12:46:52.272901Z",
     "shell.execute_reply": "2024-05-15T12:46:52.272227Z",
     "shell.execute_reply.started": "2024-05-15T12:46:52.087471Z"
    },
    "tags": []
   },
   "outputs": [
    {
     "data": {
      "text/plain": [
       "<Axes: >"
      ]
     },
     "execution_count": 18,
     "metadata": {},
     "output_type": "execute_result"
    },
    {
     "data": {
      "image/png": "[encoded data removed]",
      "text/plain": [
       "<Figure size 432x288 with 1 Axes>"
      ]
     },
     "metadata": {
      "needs_background": "light"
     },
     "output_type": "display_data"
    }
   ],
   "source": [
    "df[df.postfilter_prob>0.9998].postfilter_prob.hist(bins=10)"
   ]
  },
  {
   "cell_type": "code",
   "execution_count": 17,
   "id": "cbd7b4d3-5b4c-49ce-be35-ab8e8db64ccd",
   "metadata": {
    "execution": {
     "iopub.execute_input": "2024-05-15T12:46:34.514269Z",
     "iopub.status.busy": "2024-05-15T12:46:34.513536Z",
     "iopub.status.idle": "2024-05-15T12:46:34.534227Z",
     "shell.execute_reply": "2024-05-15T12:46:34.533514Z",
     "shell.execute_reply.started": "2024-05-15T12:46:34.514233Z"
    },
    "tags": []
   },
   "outputs": [
    {
     "data": {
      "text/plain": [
       "(4763, 16)"
      ]
     },
     "execution_count": 17,
     "metadata": {},
     "output_type": "execute_result"
    }
   ],
   "source": [
    "df[df.postfilter_prob>0.9998].shape"
   ]
  },
  {
   "cell_type": "code",
   "execution_count": 2,
   "id": "4b885bd2-e20a-49d4-8214-1e86677368a3",
   "metadata": {
    "execution": {
     "iopub.execute_input": "2024-05-15T15:02:39.346838Z",
     "iopub.status.busy": "2024-05-15T15:02:39.346259Z",
     "iopub.status.idle": "2024-05-15T15:02:39.536846Z",
     "shell.execute_reply": "2024-05-15T15:02:39.536045Z",
     "shell.execute_reply.started": "2024-05-15T15:02:39.346805Z"
    },
    "tags": []
   },
   "outputs": [
    {
     "data": {
      "text/html": [
       "<div>\n",
       "<style scoped>\n",
       "    .dataframe tbody tr th:only-of-type {\n",
       "        vertical-align: middle;\n",
       "    }\n",
       "\n",
       "    .dataframe tbody tr th {\n",
       "        vertical-align: top;\n",
       "    }\n",
       "\n",
       "    .dataframe thead th {\n",
       "        text-align: right;\n",
       "    }\n",
       "</style>\n",
       "<table border=\"1\" class=\"dataframe\">\n",
       "  <thead>\n",
       "    <tr style=\"text-align: right;\">\n",
       "      <th></th>\n",
       "      <th>oid</th>\n",
       "      <th>flare_start</th>\n",
       "      <th>time_maximum</th>\n",
       "      <th>postfilter_prob</th>\n",
       "      <th>link</th>\n",
       "      <th>tag</th>\n",
       "    </tr>\n",
       "  </thead>\n",
       "  <tbody>\n",
       "    <tr>\n",
       "      <th>0</th>\n",
       "      <td>257207200014907</td>\n",
       "      <td>58468.30851</td>\n",
       "      <td>58468.38388</td>\n",
       "      <td>0.999894</td>\n",
       "      <td>https://ztf.snad.space/dr17/view/2572072000149...</td>\n",
       "      <td></td>\n",
       "    </tr>\n",
       "    <tr>\n",
       "      <th>1</th>\n",
       "      <td>257207200014674</td>\n",
       "      <td>58468.30850</td>\n",
       "      <td>58468.37245</td>\n",
       "      <td>0.999802</td>\n",
       "      <td>https://ztf.snad.space/dr17/view/2572072000146...</td>\n",
       "      <td></td>\n",
       "    </tr>\n",
       "    <tr>\n",
       "      <th>2</th>\n",
       "      <td>257202300015543</td>\n",
       "      <td>58468.30827</td>\n",
       "      <td>58468.39779</td>\n",
       "      <td>0.999940</td>\n",
       "      <td>https://ztf.snad.space/dr17/view/2572023000155...</td>\n",
       "      <td></td>\n",
       "    </tr>\n",
       "    <tr>\n",
       "      <th>3</th>\n",
       "      <td>257208300005695</td>\n",
       "      <td>58468.30895</td>\n",
       "      <td>58468.34960</td>\n",
       "      <td>0.999964</td>\n",
       "      <td>https://ztf.snad.space/dr17/view/2572083000056...</td>\n",
       "      <td></td>\n",
       "    </tr>\n",
       "    <tr>\n",
       "      <th>4</th>\n",
       "      <td>257206300001713</td>\n",
       "      <td>58468.30847</td>\n",
       "      <td>58468.37333</td>\n",
       "      <td>0.999854</td>\n",
       "      <td>https://ztf.snad.space/dr17/view/2572063000017...</td>\n",
       "      <td></td>\n",
       "    </tr>\n",
       "  </tbody>\n",
       "</table>\n",
       "</div>"
      ],
      "text/plain": [
       "               oid  ...  tag\n",
       "0  257207200014907  ...     \n",
       "1  257207200014674  ...     \n",
       "2  257202300015543  ...     \n",
       "3  257208300005695  ...     \n",
       "4  257206300001713  ...     \n",
       "\n",
       "[5 rows x 6 columns]"
      ]
     },
     "execution_count": 2,
     "metadata": {},
     "output_type": "execute_result"
    }
   ],
   "source": [
    "link = 'https://ztf.snad.space/dr17/view/'\n",
    "df = pd.read_csv('../data/predict-data/all_fields_postfilter_0.98.csv')\n",
    "df = df[df.postfilter_prob>0.9998]\n",
    "file = df[\n",
    "    ['oid', 'flare_start', 'time_maximum', 'postfilter_prob']\n",
    "].reset_index(drop=True)\n",
    "file['link'] = [\n",
    "    f'{link}{o}?min_mjd={s}&max_mjd={m+0.3}'\n",
    "    for o, s, m in zip(file['oid'], file['flare_start'], file['time_maximum'])\n",
    "]\n",
    "file['tag'] = ''\n",
    "file.to_csv(\n",
    "    '../data/predict-data/candidates_dr17.csv', index=False\n",
    ")\n",
    "file.head()"
   ]
  },
  {
   "cell_type": "code",
   "execution_count": 22,
   "id": "51d138c4-5768-43cb-aeef-be173a6b0024",
   "metadata": {
    "execution": {
     "iopub.execute_input": "2024-05-15T13:03:17.032726Z",
     "iopub.status.busy": "2024-05-15T13:03:17.032140Z",
     "iopub.status.idle": "2024-05-15T13:03:17.043831Z",
     "shell.execute_reply": "2024-05-15T13:03:17.043144Z",
     "shell.execute_reply.started": "2024-05-15T13:03:17.032696Z"
    }
   },
   "outputs": [
    {
     "data": {
      "text/plain": [
       "(4763, 6)"
      ]
     },
     "execution_count": 22,
     "metadata": {},
     "output_type": "execute_result"
    }
   ],
   "source": [
    "file.shape"
   ]
  },
  {
   "cell_type": "code",
   "execution_count": null,
   "id": "9f50ce9a-03fc-4fce-ba0c-a2624f83bf04",
   "metadata": {},
   "outputs": [],
   "source": []
  }
 ],
 "metadata": {
  "kernelspec": {
   "display_name": "DataSphere Kernel",
   "language": "python",
   "name": "python3"
  },
  "language_info": {
   "codemirror_mode": {
    "name": "ipython",
    "version": 3
   },
   "file_extension": ".py",
   "mimetype": "text/x-python",
   "name": "python",
   "nbconvert_exporter": "python",
   "pygments_lexer": "ipython3",
   "version": "3.10.12"
  }
 },
 "nbformat": 4,
 "nbformat_minor": 5
}
