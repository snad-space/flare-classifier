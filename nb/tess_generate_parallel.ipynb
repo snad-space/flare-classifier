{
 "cells": [
  {
   "cell_type": "code",
   "execution_count": 1,
   "metadata": {},
   "outputs": [],
   "source": [
    "import lightkurve as lk\n",
    "from astropy.time import Time\n",
    "import numpy as np\n",
    "import matplotlib.pyplot as plt\n",
    "import pandas as pd\n",
    "import light_curve as lc\n",
    "from astroquery.vizier import Vizier\n",
    "\n",
    "%matplotlib inline"
   ]
  },
  {
   "cell_type": "code",
   "execution_count": 2,
   "metadata": {},
   "outputs": [],
   "source": [
    "FLARE_AMPLITUDE = 0.1\n",
    "AUTHOR = 'SPOC'\n",
    "CATALOG_ID = 'J/AJ/159/60/table1'\n",
    "COLUMNS = ['TIC', 'tpeak', 'Amp', 'Sec', 'e_tpeak', 'E_tpeak', 'FWHMdt']"
   ]
  },
  {
   "cell_type": "code",
   "execution_count": 31,
   "metadata": {},
   "outputs": [],
   "source": [
    "# random generator setting\n",
    "\n",
    "RANDOM_SEED = 42\n",
    "rng = np.random.default_rng(RANDOM_SEED)"
   ]
  },
  {
   "cell_type": "code",
   "execution_count": 4,
   "metadata": {},
   "outputs": [],
   "source": [
    "# got flares data from vizier\n",
    "\n",
    "v = Vizier(columns=COLUMNS)\n",
    "v.ROW_LIMIT = 9999999\n",
    "\n",
    "res = v.query_constraints(CATALOG_ID)\n",
    "tess_flares = res[0]\n",
    "\n",
    "tess_flares = tess_flares[tess_flares['Amp'] > FLARE_AMPLITUDE].to_pandas()"
   ]
  },
  {
   "cell_type": "code",
   "execution_count": 5,
   "metadata": {},
   "outputs": [],
   "source": [
    "from bisect import bisect\n",
    "\n",
    "def getFlare(flare_meta):\n",
    "    \n",
    "    tic = int(flare_meta['TIC'])\n",
    "    sector = int(flare_meta['Sec'])\n",
    "    amp = flare_meta['Amp']\n",
    "    fwhm = flare_meta['FWHMdt']\n",
    "    \n",
    "    light_curve = lk.search_lightcurve(f'TIC{tic}', author=AUTHOR, sector=sector).download()\n",
    "\n",
    "    flare_time = Time(flare_meta['_tab2_5'], format='jd')\n",
    "    fwhm = flare_meta['FWHMdt']\n",
    "\n",
    "    flare = light_curve[(light_curve['time'].mjd <= flare_time.mjd + 0.5) & (light_curve['time'].mjd >= flare_time.mjd - 0.5)]\n",
    "        \n",
    "    mag = -2.5 * np.log10(np.array(flare.flux))\n",
    "    \n",
    "    nonzero = flare.flux.nonzero()\n",
    "    flare = flare[nonzero]\n",
    "    \n",
    "    # check if the flare in the nonzero array\n",
    "    flare_idx = np.searchsorted(flare.time, flare_time)\n",
    "    \n",
    "    if flare_idx == len(flare.time) or flare_idx == 0:\n",
    "        return [tic, None, None, None]\n",
    "    \n",
    "    return [tic, flare.time.mjd, flare.flux, flare.flux_err, flare_time.mjd]"
   ]
  },
  {
   "cell_type": "code",
   "execution_count": 36,
   "metadata": {},
   "outputs": [],
   "source": [
    "# CODE TO GENERATE A CSV TABLE WITH TESS TEMPLATES\n",
    "# IT TAKES RATHER A LONG TIME (about ~50 minutes)\n",
    "\n",
    "# templates_df = pd.concat([pd.DataFrame([getFlare(row)], \n",
    "#                           columns=['TIC', 'mjd', 'flux', 'flare_time']) for _, row in tess_flares.iterrows()], \n",
    "#                           ignore_index=True)\n",
    "# templates_df.to_csv('tess_templates.csv', index=False)"
   ]
  },
  {
   "cell_type": "code",
   "execution_count": 6,
   "metadata": {},
   "outputs": [],
   "source": [
    "import ast\n",
    "\n",
    "def from_np_array(array_string):\n",
    "    if not isinstance(array_string, str):\n",
    "        return array_string\n",
    "    \n",
    "    array_string = array_string.replace('electron / s', '')\n",
    "    array_string = ','.join(array_string.replace('[ ', '[').split())\n",
    "    return np.array(ast.literal_eval(array_string))"
   ]
  },
  {
   "cell_type": "code",
   "execution_count": 7,
   "metadata": {},
   "outputs": [],
   "source": [
    "templates_df = pd.read_csv('tess_templates.csv')\n",
    "\n",
    "templates_df['flux'] = templates_df['flux'].map(lambda x: from_np_array(x))\n",
    "templates_df['mjd'] = templates_df['mjd'].map(lambda x: from_np_array(x))\n",
    "\n",
    "templates_df = templates_df[templates_df['flare_time'].notnull()]"
   ]
  },
  {
   "cell_type": "code",
   "execution_count": 8,
   "metadata": {},
   "outputs": [],
   "source": [
    "distributions = pd.read_csv('filter_mag_magerr_nolim.csv', names=['n', 'mag', 'magerr', 'filter'])"
   ]
  },
  {
   "cell_type": "code",
   "execution_count": 9,
   "metadata": {},
   "outputs": [],
   "source": [
    "mag_filter1 = distributions[distributions['filter'] == 1].groupby('mag', as_index = False)['n'].sum()\n",
    "mag_filter2 = distributions[distributions['filter'] == 2].groupby('mag', as_index = False)['n'].sum()\n",
    "mag_filter3 = distributions[distributions['filter'] == 3].groupby('mag', as_index = False)['n'].sum()"
   ]
  },
  {
   "cell_type": "code",
   "execution_count": 10,
   "metadata": {},
   "outputs": [],
   "source": [
    "from scipy.interpolate import interp1d\n",
    "\n",
    "def genMagerr(filter, mag):\n",
    "    distr = distributions[distributions['filter'] == filter]\n",
    "    sorted_mag = np.sort(distr['mag'])\n",
    "    bin_idx = np.searchsorted(sorted_mag, mag)\n",
    "\n",
    "    bin_mag = sorted_mag[bin_idx-1]\n",
    "\n",
    "    distr = distr[distr['mag'] == bin_mag].groupby('magerr', as_index = False)['n'].sum()\n",
    "    \n",
    "    bins = np.arange(min(distr['magerr']), max(distr['magerr']), 0.05)\n",
    "    bins_map = dict.fromkeys(bins, 0)\n",
    "    \n",
    "    for i in range(distr.shape[0]):\n",
    "        magerr = distr.iloc[i]['magerr']\n",
    "        q = distr.iloc[i]['n']\n",
    "        bins_map[magerr] = q\n",
    "    \n",
    "    cdf = np.cumsum(list(bins_map.values()))\n",
    "        \n",
    "    cdf = cdf / cdf[-1]\n",
    "    u = rng.uniform(min(cdf), 1)\n",
    "    \n",
    "    func_interp = interp1d(cdf, list(bins_map.keys()))\n",
    "    samples = func_interp(u)\n",
    "    \n",
    "    return samples"
   ]
  },
  {
   "cell_type": "code",
   "execution_count": 11,
   "metadata": {},
   "outputs": [],
   "source": [
    "import itertools\n",
    "\n",
    "def find_closest(array, x):\n",
    "    return np.argmin(np.abs(array - x))\n",
    "\n",
    "def get2dHist(filter, bins_mag, bins_sigma, counts, n_x, n_y):\n",
    "    keys = [(x, y) for x, y in zip(bins_mag, bins_sigma)]\n",
    "    hist_dict = {k:v for k, v in zip(keys, counts)}\n",
    "    \n",
    "    xedge = np.linspace(min(bins_mag), max(bins_mag), n_x)\n",
    "    yedge = np.linspace(min(bins_sigma), max(bins_sigma), n_y)\n",
    "    \n",
    "    true_keys = list(itertools.product(xedge, yedge))\n",
    "    true_dict = np.zeros((n_x, n_y))\n",
    "\n",
    "    for (x, y), count in hist_dict.items():\n",
    "            i = find_closest(xedge, x)\n",
    "            j = find_closest(yedge, y)\n",
    "            \n",
    "            true_dict[i, j] = count    \n",
    "            \n",
    "    plt.pcolormesh(yedge, xedge, true_dict)\n",
    "    plt.xlabel('sigma')\n",
    "    plt.ylabel('mag')\n",
    "    plt.title(f'filter {filter}')\n",
    "    \n",
    "    return xedge, yedge, true_dict"
   ]
  },
  {
   "cell_type": "code",
   "execution_count": 12,
   "metadata": {},
   "outputs": [
    {
     "data": {
      "image/png": "[encoded data removed]",
      "text/plain": [
       "<Figure size 1300x300 with 3 Axes>"
      ]
     },
     "metadata": {},
     "output_type": "display_data"
    }
   ],
   "source": [
    "plt.figure(figsize=(13, 3))\n",
    "\n",
    "plt.subplot(131)\n",
    "distr_filter = distributions[distributions['filter'] == 1]\n",
    "\n",
    "xedge, yedge, counts = get2dHist(1, distr_filter['mag'].to_numpy(), \n",
    "                                    distr_filter['magerr'].to_numpy(), \n",
    "                                    distr_filter['n'].to_numpy(), 100, 100)\n",
    "\n",
    "\n",
    "plt.subplot(132)\n",
    "distr_filter = distributions[distributions['filter'] == 2]\n",
    "\n",
    "xedge, yedge, counts = get2dHist(2, distr_filter['mag'].to_numpy(), \n",
    "                                    distr_filter['magerr'].to_numpy(), \n",
    "                                    distr_filter['n'].to_numpy(), 100, 100)\n",
    "\n",
    "plt.subplot(133)\n",
    "distr_filter = distributions[distributions['filter'] == 3]\n",
    "\n",
    "xedge, yedge, counts = get2dHist(3, distr_filter['mag'].to_numpy(), \n",
    "                                    distr_filter['magerr'].to_numpy(), \n",
    "                                    distr_filter['n'].to_numpy(), 100, 100)"
   ]
  },
  {
   "cell_type": "code",
   "execution_count": 13,
   "metadata": {},
   "outputs": [],
   "source": [
    "'''\n",
    "Function, which returns interpolated CDF for the required filter\n",
    "'''\n",
    "\n",
    "def genMagCdf(filter, plot_hist=False):\n",
    "    statistics = [mag_filter1, mag_filter2, mag_filter3]\n",
    "    stats = statistics[filter-1]\n",
    "\n",
    "    bins = np.arange(min(stats['mag']), max(stats['mag']), 0.1)\n",
    "    bins_map = dict.fromkeys(bins, 0)\n",
    "\n",
    "    for i in range(stats.shape[0]):\n",
    "        mag = stats.iloc[i]['mag']\n",
    "        q = stats.iloc[i]['n']\n",
    "        bins_map[mag] = q\n",
    "\n",
    "    if plot_hist:\n",
    "        bins = list(bins_map.values())\n",
    "        plt.stairs(bins[:-1], list(bins_map.keys()), fill=True)\n",
    "        plt.xlabel('magnitude')\n",
    "        plt.ylabel('n')\n",
    "        plt.title(f'filter = {filter}')\n",
    "        \n",
    "    cdf = np.cumsum(list(bins_map.values()))\n",
    "    cdf = cdf / cdf[-1]\n",
    "\n",
    "    func_interp = interp1d(cdf, list(bins_map.keys()))\n",
    "\n",
    "    return func_interp"
   ]
  },
  {
   "cell_type": "code",
   "execution_count": 14,
   "metadata": {},
   "outputs": [
    {
     "data": {
      "text/plain": [
       "<scipy.interpolate._interpolate.interp1d at 0x7f8bf86cba90>"
      ]
     },
     "execution_count": 14,
     "metadata": {},
     "output_type": "execute_result"
    },
    {
     "data": {
      "image/png": "[encoded data removed]",
      "text/plain": [
       "<Figure size 1300x300 with 3 Axes>"
      ]
     },
     "metadata": {},
     "output_type": "display_data"
    }
   ],
   "source": [
    "plt.figure(figsize=(13, 3))\n",
    "plt.subplot(131)\n",
    "genMagCdf(1, plot_hist=True)\n",
    "plt.subplot(132)\n",
    "genMagCdf(2, plot_hist=True)\n",
    "plt.subplot(133)\n",
    "genMagCdf(3, plot_hist=True)"
   ]
  },
  {
   "cell_type": "code",
   "execution_count": 15,
   "metadata": {},
   "outputs": [],
   "source": [
    "cdf_filter1 = genMagCdf(1)\n",
    "cdf_filter2 = genMagCdf(2)\n",
    "cdf_filter3 = genMagCdf(3)\n",
    "\n",
    "cdf = [cdf_filter1, cdf_filter2, cdf_filter3]"
   ]
  },
  {
   "cell_type": "code",
   "execution_count": 16,
   "metadata": {},
   "outputs": [],
   "source": [
    "'''\n",
    "Returns sampled magnitude from precalculated CDF\n",
    "'''\n",
    "\n",
    "def genMagnitude(n, filter):\n",
    "    u = rng.uniform(0, 1, n)\n",
    "    \n",
    "    func_interp = cdf[filter-1]\n",
    "    samples = func_interp(u)\n",
    "    \n",
    "    return samples"
   ]
  },
  {
   "cell_type": "code",
   "execution_count": 18,
   "metadata": {},
   "outputs": [],
   "source": [
    "from ast import literal_eval\n",
    "\n",
    "ztf_cadence = pd.read_csv('ztf_cadence.csv', names=['duration', 'split', 'len', 'oid', 'filter', 'mjd'], index_col=None)\n",
    "ztf_cadence['mjd'] = ztf_cadence['mjd'].map(lambda x: np.array(literal_eval(x)))"
   ]
  },
  {
   "cell_type": "code",
   "execution_count": 26,
   "metadata": {},
   "outputs": [],
   "source": [
    "from scipy.interpolate import interp1d\n",
    "\n",
    "def flux2Mag(flux):\n",
    "    mag = -2.5 * np.log10(flux) \n",
    "    return mag\n",
    "\n",
    "def getZtfLc(lc):\n",
    "    t = lc['mjd'].to_numpy()[0].copy()\n",
    "    flux = lc['flux'].to_numpy()[0].copy()\n",
    "    flare_time = lc['flare_time'].to_numpy()[0].copy()\n",
    "        \n",
    "    cadence = ztf_cadence.sample(random_state=rng)\n",
    "    \n",
    "    cad = cadence['mjd'].to_numpy()[0]\n",
    "    filter = cadence['filter'].to_numpy()[0]\n",
    "    oid = cadence['oid'].to_numpy()[0]\n",
    "    \n",
    "    ztf_t = cad.copy()\n",
    "    \n",
    "    normalize = min(ztf_t) - min(t)\n",
    "    flare_time += normalize\n",
    "    t += normalize\n",
    "\n",
    "    time_after_flare = max(t) - flare_time\n",
    "    time_before_flare = flare_time - min(t)\n",
    "\n",
    "    # we shoul check if time before/after flare point\n",
    "    # is less than the full cadence duration and adjust offset's interval according to it\n",
    "    \n",
    "    if time_after_flare < (max(ztf_t) - min(ztf_t)):\n",
    "        a = flare_time\n",
    "    else:\n",
    "        a = min(ztf_t)\n",
    "        \n",
    "    if time_before_flare < (max(ztf_t) - min(ztf_t)):\n",
    "        b = flare_time\n",
    "    else:\n",
    "        b = max(ztf_t)\n",
    "    \n",
    "    if a > b:\n",
    "        a, b = b, a\n",
    "    \n",
    "    offset = rng.uniform(a, b)\n",
    "    off = offset - flare_time\n",
    "    off_t = t + off\n",
    "        \n",
    "    f = interp1d(off_t, flux / min(flux))\n",
    "    \n",
    "    star_magnitude = genMagnitude(1, filter)\n",
    "    mag_f = lambda x: flux2Mag(f(x)) + star_magnitude\n",
    "    mag = np.array(mag_f(ztf_t))\n",
    "    sigma = np.array([genMagerr(filter, i) for i in mag])\n",
    "    \n",
    "    return (np.array(cad), mag + rng.normal(size=len(cad)) * sigma, sigma, cadence.index[0], flare_time, filter, oid) "
   ]
  },
  {
   "cell_type": "code",
   "execution_count": 44,
   "metadata": {},
   "outputs": [],
   "source": [
    "generated_objects = pd.DataFrame(columns=['TIC', 'mjd', 'mag', 'magerr', 'flare_time', 'chi2', 'cadence_id', 'cadence_filter', 'cadence_oid'])"
   ]
  },
  {
   "cell_type": "code",
   "execution_count": 20,
   "metadata": {},
   "outputs": [],
   "source": [
    "def generateZtfFlare(n):\n",
    "    redchi2 = lc.ReducedChi2()\n",
    "    row_array = []\n",
    "    #generated_objects = pd.DataFrame(columns=['TIC', 'mjd', 'mag', 'magerr', 'flare_time', 'chi2', 'cadence_id', 'cadence_filter', 'cadence_oid'])\n",
    "    \n",
    "    for i in range(n):\n",
    "\n",
    "        flare = templates_df.sample(random_state=rng)\n",
    "        tic = flare['TIC'].values[0]\n",
    "        \n",
    "        mjd, mag, magerr, cadence_index, flare_time, cadence_filter, cadence_oid = getZtfLc(flare)\n",
    "        val = redchi2(mjd, mag, np.array(magerr))\n",
    "        row = [[tic, mjd, mag, magerr, flare_time, val[0], cadence_index, cadence_filter, cadence_oid]]\n",
    "        row_array.append(row)\n",
    "        \n",
    "        # generated_objects = pd.concat([generated_objects, pd.DataFrame(row, columns=['TIC',\n",
    "        #                                                                             'mjd', \n",
    "        #                                                                             'mag', \n",
    "        #                                                                             'magerr', \n",
    "        #                                                                             'flare_time', \n",
    "        #                                                                             'chi2',\n",
    "        #                                                                             'cadence_id',\n",
    "        #                                                                             'cadence_filter',\n",
    "        #                                                                             'cadence_oid'])])\n",
    "        \n",
    "        \n",
    "    return row_array\n",
    "        "
   ]
  },
  {
   "cell_type": "code",
   "execution_count": 78,
   "metadata": {},
   "outputs": [
    {
     "name": "stderr",
     "output_type": "stream",
     "text": [
      "/home/lavrukhina/lavrukhina_env3.8/lib/python3.8/site-packages/joblib/externals/loky/process_executor.py:700: UserWarning: A worker stopped while some jobs were given to the executor. This can be caused by a too short worker timeout or by a memory leak.\n",
      "  warnings.warn(\n"
     ]
    }
   ],
   "source": [
    "from joblib import Parallel, delayed\n",
    "\n",
    "results = Parallel(n_jobs=18, timeout=999999)(delayed(generateZtfFlare)(150) for i in range(1000))"
   ]
  },
  {
   "cell_type": "code",
   "execution_count": 79,
   "metadata": {},
   "outputs": [],
   "source": [
    "generated_objects = pd.DataFrame(np.array(results, dtype=object).reshape(150000, 9))"
   ]
  },
  {
   "cell_type": "code",
   "execution_count": 80,
   "metadata": {},
   "outputs": [],
   "source": [
    "generated_objects.to_csv('generated_150k.csv')"
   ]
  },
  {
   "cell_type": "code",
   "execution_count": 500,
   "metadata": {},
   "outputs": [],
   "source": [
    "CHI_LIMIT = 3"
   ]
  },
  {
   "cell_type": "code",
   "execution_count": 137,
   "metadata": {},
   "outputs": [],
   "source": [
    "mean = generated_objects['mag'].map(lambda x: np.mean(x))"
   ]
  },
  {
   "cell_type": "code",
   "execution_count": 523,
   "metadata": {},
   "outputs": [
    {
     "data": {
      "image/png": "[encoded data removed]",
      "text/plain": [
       "<Figure size 640x480 with 1 Axes>"
      ]
     },
     "metadata": {},
     "output_type": "display_data"
    }
   ],
   "source": [
    "random = generated_objects[generated_objects['chi2'] > CHI_LIMIT].sample()\n",
    "\n",
    "plt.errorbar(random['mjd'].to_numpy()[0], random['mag'].to_numpy()[0], random['magerr'].to_numpy()[0], fmt='o')\n",
    "plt.title(str(random['chi2']))\n",
    "plt.gca().invert_yaxis()  "
   ]
  },
  {
   "cell_type": "code",
   "execution_count": 9,
   "metadata": {},
   "outputs": [],
   "source": [
    "import ast\n",
    "\n",
    "def from_np_array(array_string):\n",
    "    array_string = ','.join(array_string.replace('[ ', '[').split())\n",
    "    return np.array(ast.literal_eval(array_string))"
   ]
  },
  {
   "cell_type": "code",
   "execution_count": 10,
   "metadata": {},
   "outputs": [],
   "source": [
    "generated_objects = pd.read_csv('generated_250k.csv', \n",
    "                                converters={'mjd': from_np_array, 'mag': from_np_array, 'magerr': from_np_array},\n",
    "                                index_col=False)"
   ]
  },
  {
   "cell_type": "code",
   "execution_count": 158,
   "metadata": {},
   "outputs": [],
   "source": [
    "generated_objects.to_csv('generated_flare_250k.csv')"
   ]
  },
  {
   "cell_type": "code",
   "execution_count": 160,
   "metadata": {},
   "outputs": [
    {
     "data": {
      "text/html": [
       "<div>\n",
       "<style scoped>\n",
       "    .dataframe tbody tr th:only-of-type {\n",
       "        vertical-align: middle;\n",
       "    }\n",
       "\n",
       "    .dataframe tbody tr th {\n",
       "        vertical-align: top;\n",
       "    }\n",
       "\n",
       "    .dataframe thead th {\n",
       "        text-align: right;\n",
       "    }\n",
       "</style>\n",
       "<table border=\"1\" class=\"dataframe\">\n",
       "  <thead>\n",
       "    <tr style=\"text-align: right;\">\n",
       "      <th></th>\n",
       "      <th>Unnamed: 0</th>\n",
       "      <th>TIC</th>\n",
       "      <th>mjd</th>\n",
       "      <th>mag</th>\n",
       "      <th>magerr</th>\n",
       "      <th>flare_time</th>\n",
       "      <th>chi2</th>\n",
       "      <th>cadence_id</th>\n",
       "    </tr>\n",
       "  </thead>\n",
       "  <tbody>\n",
       "    <tr>\n",
       "      <th>0</th>\n",
       "      <td>0</td>\n",
       "      <td>401838575</td>\n",
       "      <td>[58670.22392, 58670.22437, 58670.23171, 58670....</td>\n",
       "      <td>[18.93377643, 18.92693795, 19.00985149, 18.901...</td>\n",
       "      <td>[0.06915677, 0.04368783, 0.05546116, 0.0469365...</td>\n",
       "      <td>58670.723244</td>\n",
       "      <td>6.771148</td>\n",
       "      <td>210139</td>\n",
       "    </tr>\n",
       "    <tr>\n",
       "      <th>1</th>\n",
       "      <td>1</td>\n",
       "      <td>229137237</td>\n",
       "      <td>[58806.40329, 58806.40373, 58806.40419, 58806....</td>\n",
       "      <td>[18.44983858, 18.42632196, 18.53543563, 18.453...</td>\n",
       "      <td>[0.03816467, 0.03277796, 0.04178508, 0.0351525...</td>\n",
       "      <td>58806.901907</td>\n",
       "      <td>3.640815</td>\n",
       "      <td>48965</td>\n",
       "    </tr>\n",
       "    <tr>\n",
       "      <th>2</th>\n",
       "      <td>2</td>\n",
       "      <td>332517282</td>\n",
       "      <td>[58726.17404, 58726.18414, 58726.19523, 58726....</td>\n",
       "      <td>[19.44587903, 19.30531509, 19.32871613, 19.300...</td>\n",
       "      <td>[0.0738861, 0.06057421, 0.05880634, 0.05329344...</td>\n",
       "      <td>58726.673042</td>\n",
       "      <td>2.153495</td>\n",
       "      <td>93224</td>\n",
       "    </tr>\n",
       "    <tr>\n",
       "      <th>3</th>\n",
       "      <td>3</td>\n",
       "      <td>339607562</td>\n",
       "      <td>[58867.27681, 58867.27726, 58867.27771, 58867....</td>\n",
       "      <td>[16.17774176, 16.16988355, 16.18240478, 16.180...</td>\n",
       "      <td>[0.01113228, 0.01237234, 0.01352517, 0.0131262...</td>\n",
       "      <td>58867.776362</td>\n",
       "      <td>2.829389</td>\n",
       "      <td>35478</td>\n",
       "    </tr>\n",
       "    <tr>\n",
       "      <th>4</th>\n",
       "      <td>4</td>\n",
       "      <td>160113240</td>\n",
       "      <td>[58719.1751, 58719.17555, 58719.19013, 58719.1...</td>\n",
       "      <td>[15.73534893, 15.72950935, 15.78411225, 15.781...</td>\n",
       "      <td>[0.01236958, 0.01081624, 0.01256477, 0.0229319...</td>\n",
       "      <td>58719.674024</td>\n",
       "      <td>4.621342</td>\n",
       "      <td>194336</td>\n",
       "    </tr>\n",
       "    <tr>\n",
       "      <th>...</th>\n",
       "      <td>...</td>\n",
       "      <td>...</td>\n",
       "      <td>...</td>\n",
       "      <td>...</td>\n",
       "      <td>...</td>\n",
       "      <td>...</td>\n",
       "      <td>...</td>\n",
       "      <td>...</td>\n",
       "    </tr>\n",
       "    <tr>\n",
       "      <th>252796</th>\n",
       "      <td>252796</td>\n",
       "      <td>302296434</td>\n",
       "      <td>[58468.09283, 58468.09329, 58468.09374, 58468....</td>\n",
       "      <td>[17.18965567, 17.14352202, 17.1644606, 17.2004...</td>\n",
       "      <td>[0.01589039, 0.0162306, 0.01590003, 0.01871675...</td>\n",
       "      <td>58468.592005</td>\n",
       "      <td>2.607492</td>\n",
       "      <td>37118</td>\n",
       "    </tr>\n",
       "    <tr>\n",
       "      <th>252797</th>\n",
       "      <td>252797</td>\n",
       "      <td>382243958</td>\n",
       "      <td>[58719.17305, 58719.1735, 58719.18731, 58719.1...</td>\n",
       "      <td>[18.96821121, 19.07609905, 18.92866044, 19.102...</td>\n",
       "      <td>[0.05509176, 0.04845715, 0.0962942, 0.06836221...</td>\n",
       "      <td>58719.672071</td>\n",
       "      <td>4.316107</td>\n",
       "      <td>69586</td>\n",
       "    </tr>\n",
       "    <tr>\n",
       "      <th>252798</th>\n",
       "      <td>252798</td>\n",
       "      <td>206609630</td>\n",
       "      <td>[58287.35417, 58287.35462, 58287.35553, 58287....</td>\n",
       "      <td>[17.78263288, 17.79559713, 17.76414208, 17.745...</td>\n",
       "      <td>[0.05447452, 0.02552808, 0.02042474, 0.0271241...</td>\n",
       "      <td>58287.853816</td>\n",
       "      <td>1.852205</td>\n",
       "      <td>201325</td>\n",
       "    </tr>\n",
       "    <tr>\n",
       "      <th>252799</th>\n",
       "      <td>252799</td>\n",
       "      <td>77041173</td>\n",
       "      <td>[58348.21776, 58348.22511, 58348.2265, 58348.2...</td>\n",
       "      <td>[20.56980414, 21.23658742, 20.85382301, 20.745...</td>\n",
       "      <td>[0.20837597, 0.18824113, 0.14989662, 0.1914626...</td>\n",
       "      <td>58348.716667</td>\n",
       "      <td>9.461826</td>\n",
       "      <td>156054</td>\n",
       "    </tr>\n",
       "    <tr>\n",
       "      <th>252800</th>\n",
       "      <td>252800</td>\n",
       "      <td>425937691</td>\n",
       "      <td>[58673.23999, 58673.24044, 58673.24802, 58673....</td>\n",
       "      <td>[20.35298026, 20.36448663, 20.08375069, 20.170...</td>\n",
       "      <td>[0.10023821, 0.11909416, 0.10662664, 0.1298297...</td>\n",
       "      <td>58673.738738</td>\n",
       "      <td>0.783054</td>\n",
       "      <td>138457</td>\n",
       "    </tr>\n",
       "  </tbody>\n",
       "</table>\n",
       "<p>252801 rows × 8 columns</p>\n",
       "</div>"
      ],
      "text/plain": [
       "        Unnamed: 0        TIC  \\\n",
       "0                0  401838575   \n",
       "1                1  229137237   \n",
       "2                2  332517282   \n",
       "3                3  339607562   \n",
       "4                4  160113240   \n",
       "...            ...        ...   \n",
       "252796      252796  302296434   \n",
       "252797      252797  382243958   \n",
       "252798      252798  206609630   \n",
       "252799      252799   77041173   \n",
       "252800      252800  425937691   \n",
       "\n",
       "                                                      mjd  \\\n",
       "0       [58670.22392, 58670.22437, 58670.23171, 58670....   \n",
       "1       [58806.40329, 58806.40373, 58806.40419, 58806....   \n",
       "2       [58726.17404, 58726.18414, 58726.19523, 58726....   \n",
       "3       [58867.27681, 58867.27726, 58867.27771, 58867....   \n",
       "4       [58719.1751, 58719.17555, 58719.19013, 58719.1...   \n",
       "...                                                   ...   \n",
       "252796  [58468.09283, 58468.09329, 58468.09374, 58468....   \n",
       "252797  [58719.17305, 58719.1735, 58719.18731, 58719.1...   \n",
       "252798  [58287.35417, 58287.35462, 58287.35553, 58287....   \n",
       "252799  [58348.21776, 58348.22511, 58348.2265, 58348.2...   \n",
       "252800  [58673.23999, 58673.24044, 58673.24802, 58673....   \n",
       "\n",
       "                                                      mag  \\\n",
       "0       [18.93377643, 18.92693795, 19.00985149, 18.901...   \n",
       "1       [18.44983858, 18.42632196, 18.53543563, 18.453...   \n",
       "2       [19.44587903, 19.30531509, 19.32871613, 19.300...   \n",
       "3       [16.17774176, 16.16988355, 16.18240478, 16.180...   \n",
       "4       [15.73534893, 15.72950935, 15.78411225, 15.781...   \n",
       "...                                                   ...   \n",
       "252796  [17.18965567, 17.14352202, 17.1644606, 17.2004...   \n",
       "252797  [18.96821121, 19.07609905, 18.92866044, 19.102...   \n",
       "252798  [17.78263288, 17.79559713, 17.76414208, 17.745...   \n",
       "252799  [20.56980414, 21.23658742, 20.85382301, 20.745...   \n",
       "252800  [20.35298026, 20.36448663, 20.08375069, 20.170...   \n",
       "\n",
       "                                                   magerr    flare_time  \\\n",
       "0       [0.06915677, 0.04368783, 0.05546116, 0.0469365...  58670.723244   \n",
       "1       [0.03816467, 0.03277796, 0.04178508, 0.0351525...  58806.901907   \n",
       "2       [0.0738861, 0.06057421, 0.05880634, 0.05329344...  58726.673042   \n",
       "3       [0.01113228, 0.01237234, 0.01352517, 0.0131262...  58867.776362   \n",
       "4       [0.01236958, 0.01081624, 0.01256477, 0.0229319...  58719.674024   \n",
       "...                                                   ...           ...   \n",
       "252796  [0.01589039, 0.0162306, 0.01590003, 0.01871675...  58468.592005   \n",
       "252797  [0.05509176, 0.04845715, 0.0962942, 0.06836221...  58719.672071   \n",
       "252798  [0.05447452, 0.02552808, 0.02042474, 0.0271241...  58287.853816   \n",
       "252799  [0.20837597, 0.18824113, 0.14989662, 0.1914626...  58348.716667   \n",
       "252800  [0.10023821, 0.11909416, 0.10662664, 0.1298297...  58673.738738   \n",
       "\n",
       "            chi2  cadence_id  \n",
       "0       6.771148      210139  \n",
       "1       3.640815       48965  \n",
       "2       2.153495       93224  \n",
       "3       2.829389       35478  \n",
       "4       4.621342      194336  \n",
       "...          ...         ...  \n",
       "252796  2.607492       37118  \n",
       "252797  4.316107       69586  \n",
       "252798  1.852205      201325  \n",
       "252799  9.461826      156054  \n",
       "252800  0.783054      138457  \n",
       "\n",
       "[252801 rows x 8 columns]"
      ]
     },
     "execution_count": 160,
     "metadata": {},
     "output_type": "execute_result"
    }
   ],
   "source": [
    "pd.read_csv('generated_flare_250k.csv', converters={'mjd': from_np_array, 'mag': from_np_array, 'magerr': from_np_array})"
   ]
  }
 ],
 "metadata": {
  "kernelspec": {
   "display_name": "env_3.8",
   "language": "python",
   "name": "env_3.8"
  },
  "language_info": {
   "codemirror_mode": {
    "name": "ipython",
    "version": 3
   },
   "file_extension": ".py",
   "mimetype": "text/x-python",
   "name": "python",
   "nbconvert_exporter": "python",
   "pygments_lexer": "ipython3",
   "version": "3.8.0"
  },
  "orig_nbformat": 4
 },
 "nbformat": 4,
 "nbformat_minor": 2
}
