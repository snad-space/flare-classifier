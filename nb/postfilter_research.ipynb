{
 "cells": [
  {
   "cell_type": "code",
   "execution_count": 2,
   "id": "03ac6e12",
   "metadata": {
    "cellId": "ycrrki2m2pcqheac24x6qm"
   },
   "outputs": [],
   "source": [
    "import pandas as pd\n",
    "import numpy as np\n",
    "from tqdm import tqdm\n",
    "\n",
    "import flare_postfilter as pf"
   ]
  },
  {
   "cell_type": "markdown",
   "id": "bec941e7",
   "metadata": {
    "cellId": "qowvqni6zm2rqtgzkmu47",
    "execution_id": "eaae5e86-5f58-4a13-87b0-b4811a7f2ea0"
   },
   "source": [
    "# Get data from data release to flares candidates"
   ]
  },
  {
   "cell_type": "code",
   "execution_count": 224,
   "id": "c117853d",
   "metadata": {
    "cellId": "ksgmslyjipkhbo9gx0hxr",
    "execution_id": "96065325-5608-49fb-a75c-d4a499ad3c2a"
   },
   "outputs": [
    {
     "name": "stdout",
     "output_type": "stream",
     "text": [
      "result dataframe=(25852, 6)\n"
     ]
    },
    {
     "name": "stderr",
     "output_type": "stream",
     "text": [
      "Data progress: 100%|█████████▉| 9728/9729 [4:05:45<00:01,  1.52s/it]\n"
     ]
    },
    {
     "data": {
      "text/html": [
       "<div>\n",
       "<style scoped>\n",
       "    .dataframe tbody tr th:only-of-type {\n",
       "        vertical-align: middle;\n",
       "    }\n",
       "\n",
       "    .dataframe tbody tr th {\n",
       "        vertical-align: top;\n",
       "    }\n",
       "\n",
       "    .dataframe thead th {\n",
       "        text-align: right;\n",
       "    }\n",
       "</style>\n",
       "<table border=\"1\" class=\"dataframe\">\n",
       "  <thead>\n",
       "    <tr style=\"text-align: right;\">\n",
       "      <th></th>\n",
       "      <th>oid</th>\n",
       "      <th>flare_start</th>\n",
       "      <th>predict_prob</th>\n",
       "      <th>time_series</th>\n",
       "      <th>ra</th>\n",
       "      <th>dec</th>\n",
       "    </tr>\n",
       "  </thead>\n",
       "  <tbody>\n",
       "    <tr>\n",
       "      <th>0</th>\n",
       "      <td>486209100128243</td>\n",
       "      <td>58661.24208</td>\n",
       "      <td>0.995176</td>\n",
       "      <td>[0.9182600000058301, 58661.24208, 18.142673, 0...</td>\n",
       "      <td>277.903961</td>\n",
       "      <td>6.109643</td>\n",
       "    </tr>\n",
       "    <tr>\n",
       "      <th>1</th>\n",
       "      <td>359210100044247</td>\n",
       "      <td>58811.44273</td>\n",
       "      <td>0.996085</td>\n",
       "      <td>[5.9678899999998976, 58811.44273, 16.656197, 0...</td>\n",
       "      <td>105.324333</td>\n",
       "      <td>-8.860015</td>\n",
       "    </tr>\n",
       "    <tr>\n",
       "      <th>2</th>\n",
       "      <td>282213100119626</td>\n",
       "      <td>58691.23872</td>\n",
       "      <td>0.992881</td>\n",
       "      <td>[0.9703300000037416, 58691.23872, 16.318787, 0...</td>\n",
       "      <td>275.966644</td>\n",
       "      <td>-21.185997</td>\n",
       "    </tr>\n",
       "    <tr>\n",
       "      <th>3</th>\n",
       "      <td>770213400069000</td>\n",
       "      <td>58461.14781</td>\n",
       "      <td>0.991000</td>\n",
       "      <td>[0.039990000004763715, 58461.14781, 17.131294,...</td>\n",
       "      <td>336.497131</td>\n",
       "      <td>50.541885</td>\n",
       "    </tr>\n",
       "    <tr>\n",
       "      <th>4</th>\n",
       "      <td>688204300071099</td>\n",
       "      <td>58449.06803</td>\n",
       "      <td>0.995176</td>\n",
       "      <td>[7.837149999999383, 58449.06803, 18.615862, 0....</td>\n",
       "      <td>310.082855</td>\n",
       "      <td>30.067356</td>\n",
       "    </tr>\n",
       "  </tbody>\n",
       "</table>\n",
       "</div>"
      ],
      "text/plain": [
       "               oid  flare_start  ...          ra        dec\n",
       "0  486209100128243  58661.24208  ...  277.903961   6.109643\n",
       "1  359210100044247  58811.44273  ...  105.324333  -8.860015\n",
       "2  282213100119626  58691.23872  ...  275.966644 -21.185997\n",
       "3  770213400069000  58461.14781  ...  336.497131  50.541885\n",
       "4  688204300071099  58449.06803  ...  310.082855  30.067356\n",
       "\n",
       "[5 rows x 6 columns]"
      ]
     },
     "execution_count": 224,
     "metadata": {},
     "output_type": "execute_result"
    }
   ],
   "source": [
    "prediction_file = {\n",
    "    'file_name':'min_proba_10_bins.csv',\n",
    "    'predict_column': 'min_predict'\n",
    "}\n",
    "release_file = '/home/jupyter/mnt/s3/ztf-high-cadence-data/dr14_high_cadence.csv'\n",
    "\n",
    "result = pf.get_data_from_release(prediction_file, release_file, threshold=0.99)\n",
    "result.to_csv('min_proba_predict_data.csv')\n",
    "result.head()"
   ]
  },
  {
   "cell_type": "markdown",
   "id": "4d78dd3a",
   "metadata": {
    "cellId": "cealcybvcc6nym0877bxea",
    "execution_id": "0e34ab04-918b-44ea-a4b1-e45bc6c88f5a"
   },
   "source": [
    "# Search asteroids in flares candidates"
   ]
  },
  {
   "cell_type": "code",
   "execution_count": 3,
   "id": "844db209",
   "metadata": {},
   "outputs": [
    {
     "data": {
      "text/html": [
       "<div>\n",
       "<style scoped>\n",
       "    .dataframe tbody tr th:only-of-type {\n",
       "        vertical-align: middle;\n",
       "    }\n",
       "\n",
       "    .dataframe tbody tr th {\n",
       "        vertical-align: top;\n",
       "    }\n",
       "\n",
       "    .dataframe thead th {\n",
       "        text-align: right;\n",
       "    }\n",
       "</style>\n",
       "<table border=\"1\" class=\"dataframe\">\n",
       "  <thead>\n",
       "    <tr style=\"text-align: right;\">\n",
       "      <th></th>\n",
       "      <th>Unnamed: 0</th>\n",
       "      <th>oid</th>\n",
       "      <th>flare_start</th>\n",
       "      <th>predict_prob</th>\n",
       "      <th>time_series</th>\n",
       "      <th>ra</th>\n",
       "      <th>dec</th>\n",
       "      <th>asteroid</th>\n",
       "      <th>asteroid_time</th>\n",
       "      <th>asteroid_name</th>\n",
       "    </tr>\n",
       "  </thead>\n",
       "  <tbody>\n",
       "    <tr>\n",
       "      <th>0</th>\n",
       "      <td>0</td>\n",
       "      <td>486209100128243</td>\n",
       "      <td>58661.24208</td>\n",
       "      <td>0.995176</td>\n",
       "      <td>[0.9182600000058301, 58661.24208, 18.142673, 0...</td>\n",
       "      <td>277.903961</td>\n",
       "      <td>6.109643</td>\n",
       "      <td>False</td>\n",
       "      <td>58661.30098</td>\n",
       "      <td>No object</td>\n",
       "    </tr>\n",
       "    <tr>\n",
       "      <th>1</th>\n",
       "      <td>1</td>\n",
       "      <td>359210100044247</td>\n",
       "      <td>58811.44273</td>\n",
       "      <td>0.996085</td>\n",
       "      <td>[5.9678899999998976, 58811.44273, 16.656197, 0...</td>\n",
       "      <td>105.324333</td>\n",
       "      <td>-8.860015</td>\n",
       "      <td>False</td>\n",
       "      <td>58811.46126</td>\n",
       "      <td>No object</td>\n",
       "    </tr>\n",
       "    <tr>\n",
       "      <th>2</th>\n",
       "      <td>2</td>\n",
       "      <td>282213100119626</td>\n",
       "      <td>58691.23872</td>\n",
       "      <td>0.992881</td>\n",
       "      <td>[0.9703300000037416, 58691.23872, 16.318787, 0...</td>\n",
       "      <td>275.966644</td>\n",
       "      <td>-21.185997</td>\n",
       "      <td>False</td>\n",
       "      <td>58691.28075</td>\n",
       "      <td>No object</td>\n",
       "    </tr>\n",
       "    <tr>\n",
       "      <th>3</th>\n",
       "      <td>3</td>\n",
       "      <td>770213400069000</td>\n",
       "      <td>58461.14781</td>\n",
       "      <td>0.991000</td>\n",
       "      <td>[0.039990000004763715, 58461.14781, 17.131294,...</td>\n",
       "      <td>336.497131</td>\n",
       "      <td>50.541885</td>\n",
       "      <td>False</td>\n",
       "      <td>58461.21144</td>\n",
       "      <td>No object</td>\n",
       "    </tr>\n",
       "    <tr>\n",
       "      <th>4</th>\n",
       "      <td>4</td>\n",
       "      <td>688204300071099</td>\n",
       "      <td>58449.06803</td>\n",
       "      <td>0.995176</td>\n",
       "      <td>[7.837149999999383, 58449.06803, 18.615862, 0....</td>\n",
       "      <td>310.082855</td>\n",
       "      <td>30.067356</td>\n",
       "      <td>False</td>\n",
       "      <td>58449.17137</td>\n",
       "      <td>No object</td>\n",
       "    </tr>\n",
       "  </tbody>\n",
       "</table>\n",
       "</div>"
      ],
      "text/plain": [
       "   Unnamed: 0              oid  flare_start  predict_prob  \\\n",
       "0           0  486209100128243  58661.24208      0.995176   \n",
       "1           1  359210100044247  58811.44273      0.996085   \n",
       "2           2  282213100119626  58691.23872      0.992881   \n",
       "3           3  770213400069000  58461.14781      0.991000   \n",
       "4           4  688204300071099  58449.06803      0.995176   \n",
       "\n",
       "                                         time_series          ra        dec  \\\n",
       "0  [0.9182600000058301, 58661.24208, 18.142673, 0...  277.903961   6.109643   \n",
       "1  [5.9678899999998976, 58811.44273, 16.656197, 0...  105.324333  -8.860015   \n",
       "2  [0.9703300000037416, 58691.23872, 16.318787, 0...  275.966644 -21.185997   \n",
       "3  [0.039990000004763715, 58461.14781, 17.131294,...  336.497131  50.541885   \n",
       "4  [7.837149999999383, 58449.06803, 18.615862, 0....  310.082855  30.067356   \n",
       "\n",
       "   asteroid  asteroid_time asteroid_name  \n",
       "0     False    58661.30098     No object  \n",
       "1     False    58811.46126     No object  \n",
       "2     False    58691.28075     No object  \n",
       "3     False    58461.21144     No object  \n",
       "4     False    58449.17137     No object  "
      ]
     },
     "execution_count": 3,
     "metadata": {},
     "output_type": "execute_result"
    }
   ],
   "source": [
    "result = pf.search_asteroids(result)\n",
    "result.to_csv('min_proba_asteroids_post_filter.csv')\n",
    "result.head()"
   ]
  },
  {
   "cell_type": "code",
   "execution_count": 4,
   "id": "9cc24dd0",
   "metadata": {
    "cellId": "anrguy9dtdaae9ymii1x6p"
   },
   "outputs": [
    {
     "data": {
      "text/plain": [
       "(3900, 10)"
      ]
     },
     "execution_count": 4,
     "metadata": {},
     "output_type": "execute_result"
    }
   ],
   "source": [
    "result[result.asteroid].shape"
   ]
  },
  {
   "cell_type": "markdown",
   "id": "ad87a720",
   "metadata": {
    "cellId": "c3wfmk13xtt57y6bwg8fvh",
    "execution_id": "ce6ef756-d027-4920-b551-398a044bc8cf"
   },
   "source": [
    "## Compare with manual labels"
   ]
  },
  {
   "cell_type": "code",
   "execution_count": 15,
   "id": "819eb191",
   "metadata": {
    "cellId": "hbdvihz6d8q9w2ce4smjxi"
   },
   "outputs": [
    {
     "data": {
      "text/html": [
       "<div>\n",
       "<style scoped>\n",
       "    .dataframe tbody tr th:only-of-type {\n",
       "        vertical-align: middle;\n",
       "    }\n",
       "\n",
       "    .dataframe tbody tr th {\n",
       "        vertical-align: top;\n",
       "    }\n",
       "\n",
       "    .dataframe thead th {\n",
       "        text-align: right;\n",
       "    }\n",
       "</style>\n",
       "<table border=\"1\" class=\"dataframe\">\n",
       "  <thead>\n",
       "    <tr style=\"text-align: right;\">\n",
       "      <th></th>\n",
       "      <th>oid</th>\n",
       "      <th>flare_start</th>\n",
       "      <th>min_predict</th>\n",
       "      <th>m_label</th>\n",
       "    </tr>\n",
       "  </thead>\n",
       "  <tbody>\n",
       "    <tr>\n",
       "      <th>0</th>\n",
       "      <td>538215300072934</td>\n",
       "      <td>58658.26086</td>\n",
       "      <td>0.992881</td>\n",
       "      <td>defocusing</td>\n",
       "    </tr>\n",
       "    <tr>\n",
       "      <th>1</th>\n",
       "      <td>541206100090336</td>\n",
       "      <td>58341.26201</td>\n",
       "      <td>0.999315</td>\n",
       "      <td>asteroid</td>\n",
       "    </tr>\n",
       "    <tr>\n",
       "      <th>2</th>\n",
       "      <td>332212200167395</td>\n",
       "      <td>58637.36108</td>\n",
       "      <td>0.999133</td>\n",
       "      <td>asteroid</td>\n",
       "    </tr>\n",
       "    <tr>\n",
       "      <th>3</th>\n",
       "      <td>385202400036883</td>\n",
       "      <td>58293.36272</td>\n",
       "      <td>0.998215</td>\n",
       "      <td>asteroid</td>\n",
       "    </tr>\n",
       "    <tr>\n",
       "      <th>4</th>\n",
       "      <td>385203300127337</td>\n",
       "      <td>58719.17794</td>\n",
       "      <td>0.991000</td>\n",
       "      <td>defocusing</td>\n",
       "    </tr>\n",
       "  </tbody>\n",
       "</table>\n",
       "</div>"
      ],
      "text/plain": [
       "               oid  flare_start  min_predict     m_label\n",
       "0  538215300072934  58658.26086     0.992881  defocusing\n",
       "1  541206100090336  58341.26201     0.999315    asteroid\n",
       "2  332212200167395  58637.36108     0.999133    asteroid\n",
       "3  385202400036883  58293.36272     0.998215    asteroid\n",
       "4  385203300127337  58719.17794     0.991000  defocusing"
      ]
     },
     "execution_count": 15,
     "metadata": {},
     "output_type": "execute_result"
    }
   ],
   "source": [
    "labeled_df = pd.read_csv(\n",
    "    'random_samples_min_proba_labeled.csv',\n",
    "    sep=';',\n",
    "    dtype={\n",
    "    'oid': 'int64',\n",
    "    'flare_start': 'float',\n",
    "    'min_predict': 'float',\n",
    "    'm_label': 'string'\n",
    "})\n",
    "labeled_df.head()"
   ]
  },
  {
   "cell_type": "code",
   "execution_count": 16,
   "id": "93b54efb",
   "metadata": {
    "cellId": "zsrk1k506rrp9fg5eudyoj"
   },
   "outputs": [
    {
     "data": {
      "text/html": [
       "<div>\n",
       "<style scoped>\n",
       "    .dataframe tbody tr th:only-of-type {\n",
       "        vertical-align: middle;\n",
       "    }\n",
       "\n",
       "    .dataframe tbody tr th {\n",
       "        vertical-align: top;\n",
       "    }\n",
       "\n",
       "    .dataframe thead th {\n",
       "        text-align: right;\n",
       "    }\n",
       "</style>\n",
       "<table border=\"1\" class=\"dataframe\">\n",
       "  <thead>\n",
       "    <tr style=\"text-align: right;\">\n",
       "      <th></th>\n",
       "      <th>oid</th>\n",
       "      <th>flare_start</th>\n",
       "      <th>m_label</th>\n",
       "      <th>predict_prob</th>\n",
       "      <th>time_series</th>\n",
       "      <th>ra</th>\n",
       "      <th>dec</th>\n",
       "      <th>asteroid</th>\n",
       "      <th>asteroid_name</th>\n",
       "    </tr>\n",
       "  </thead>\n",
       "  <tbody>\n",
       "    <tr>\n",
       "      <th>0</th>\n",
       "      <td>538215300072934</td>\n",
       "      <td>58658.26086</td>\n",
       "      <td>defocusing</td>\n",
       "      <td>0.992881</td>\n",
       "      <td>[4.840060000002268, 58658.26086, 17.83841, 0.0...</td>\n",
       "      <td>276.167664</td>\n",
       "      <td>14.295973</td>\n",
       "      <td>False</td>\n",
       "      <td>No object</td>\n",
       "    </tr>\n",
       "    <tr>\n",
       "      <th>1</th>\n",
       "      <td>541206100090336</td>\n",
       "      <td>58341.26201</td>\n",
       "      <td>asteroid</td>\n",
       "      <td>0.999315</td>\n",
       "      <td>[0.04716000000189524, 58341.26201, 18.047487, ...</td>\n",
       "      <td>299.964478</td>\n",
       "      <td>11.103843</td>\n",
       "      <td>True</td>\n",
       "      <td>2002 WQ6</td>\n",
       "    </tr>\n",
       "    <tr>\n",
       "      <th>2</th>\n",
       "      <td>332212200167395</td>\n",
       "      <td>58637.36108</td>\n",
       "      <td>asteroid</td>\n",
       "      <td>0.999133</td>\n",
       "      <td>[28.87514999999985, 58637.36108, 18.805794, 0....</td>\n",
       "      <td>266.371735</td>\n",
       "      <td>-15.236836</td>\n",
       "      <td>True</td>\n",
       "      <td>2000 DW34</td>\n",
       "    </tr>\n",
       "    <tr>\n",
       "      <th>3</th>\n",
       "      <td>385202400036883</td>\n",
       "      <td>58293.36272</td>\n",
       "      <td>asteroid</td>\n",
       "      <td>0.998215</td>\n",
       "      <td>[0.948499999998603, 58293.36272, 17.31565, 0.0...</td>\n",
       "      <td>288.673370</td>\n",
       "      <td>-13.307001</td>\n",
       "      <td>True</td>\n",
       "      <td>Abrarnadroo</td>\n",
       "    </tr>\n",
       "    <tr>\n",
       "      <th>4</th>\n",
       "      <td>385203300127337</td>\n",
       "      <td>58719.17794</td>\n",
       "      <td>defocusing</td>\n",
       "      <td>0.991000</td>\n",
       "      <td>[0.9162500000020373, 58719.17794, 17.343807, 0...</td>\n",
       "      <td>286.659363</td>\n",
       "      <td>-12.873024</td>\n",
       "      <td>False</td>\n",
       "      <td>No object</td>\n",
       "    </tr>\n",
       "  </tbody>\n",
       "</table>\n",
       "</div>"
      ],
      "text/plain": [
       "               oid  flare_start     m_label  predict_prob  \\\n",
       "0  538215300072934  58658.26086  defocusing      0.992881   \n",
       "1  541206100090336  58341.26201    asteroid      0.999315   \n",
       "2  332212200167395  58637.36108    asteroid      0.999133   \n",
       "3  385202400036883  58293.36272    asteroid      0.998215   \n",
       "4  385203300127337  58719.17794  defocusing      0.991000   \n",
       "\n",
       "                                         time_series          ra        dec  \\\n",
       "0  [4.840060000002268, 58658.26086, 17.83841, 0.0...  276.167664  14.295973   \n",
       "1  [0.04716000000189524, 58341.26201, 18.047487, ...  299.964478  11.103843   \n",
       "2  [28.87514999999985, 58637.36108, 18.805794, 0....  266.371735 -15.236836   \n",
       "3  [0.948499999998603, 58293.36272, 17.31565, 0.0...  288.673370 -13.307001   \n",
       "4  [0.9162500000020373, 58719.17794, 17.343807, 0...  286.659363 -12.873024   \n",
       "\n",
       "   asteroid asteroid_name  \n",
       "0     False     No object  \n",
       "1      True      2002 WQ6  \n",
       "2      True     2000 DW34  \n",
       "3      True   Abrarnadroo  \n",
       "4     False     No object  "
      ]
     },
     "execution_count": 16,
     "metadata": {},
     "output_type": "execute_result"
    }
   ],
   "source": [
    "# get data for manual label oids\n",
    "s_df = pd.merge(\n",
    "    labeled_df[['oid', 'flare_start', 'm_label']],\n",
    "    result[['oid', 'flare_start', 'predict_prob', 'time_series', 'ra', 'dec', 'asteroid', 'asteroid_name']],\n",
    "    on=['oid', 'flare_start'],\n",
    "    how='inner',\n",
    ")\n",
    "s_df.head()"
   ]
  },
  {
   "cell_type": "code",
   "execution_count": 19,
   "id": "82431af1",
   "metadata": {
    "cellId": "tirk41ckgbb8r8b47cj3h"
   },
   "outputs": [
    {
     "name": "stdout",
     "output_type": "stream",
     "text": [
      "amount labeled asteroids = 22\n",
      "amount autosearchded asteroids = 22\n"
     ]
    }
   ],
   "source": [
    "print(f'amount labeled asteroids = {labeled_df[labeled_df.m_label==\"asteroid\"].shape[0]}')\n",
    "print(f'amount autosearchded asteroids = {s_df[s_df.asteroid].shape[0]}')"
   ]
  },
  {
   "cell_type": "code",
   "execution_count": 20,
   "id": "803b5063",
   "metadata": {
    "cellId": "7ldg92kkcze7sr3j3s224i"
   },
   "outputs": [
    {
     "data": {
      "text/plain": [
       "No object       21952\n",
       "2000 DA69           6\n",
       "2000 HM57           5\n",
       "1989 SW8            4\n",
       "2676 T-3            4\n",
       "                ...  \n",
       "2001 TN192          2\n",
       "2004 RY315          2\n",
       "Tokunaga            2\n",
       "2003 UD258          2\n",
       "Gainsborough        2\n",
       "Name: asteroid_name, Length: 515, dtype: int64"
      ]
     },
     "execution_count": 20,
     "metadata": {},
     "output_type": "execute_result"
    }
   ],
   "source": [
    "aster_group = result.asteroid_name.value_counts()\n",
    "aster_group[aster_group>1]"
   ]
  },
  {
   "cell_type": "markdown",
   "id": "7d7a57c0",
   "metadata": {
    "cellId": "eoatic00tf5pd4bbsgw7"
   },
   "source": [
    "# DEFOCUSING"
   ]
  },
  {
   "cell_type": "markdown",
   "id": "530b0046",
   "metadata": {},
   "source": [
    "## Sharpness"
   ]
  },
  {
   "cell_type": "code",
   "execution_count": 24,
   "id": "c6819687",
   "metadata": {},
   "outputs": [
    {
     "name": "stderr",
     "output_type": "stream",
     "text": [
      "  0%|          | 0/100 [00:00<?, ?it/s]"
     ]
    },
    {
     "name": "stderr",
     "output_type": "stream",
     "text": [
      "100%|██████████| 100/100 [05:20<00:00,  3.21s/it]\n"
     ]
    },
    {
     "data": {
      "text/html": [
       "<div>\n",
       "<style scoped>\n",
       "    .dataframe tbody tr th:only-of-type {\n",
       "        vertical-align: middle;\n",
       "    }\n",
       "\n",
       "    .dataframe tbody tr th {\n",
       "        vertical-align: top;\n",
       "    }\n",
       "\n",
       "    .dataframe thead th {\n",
       "        text-align: right;\n",
       "    }\n",
       "</style>\n",
       "<table border=\"1\" class=\"dataframe\">\n",
       "  <thead>\n",
       "    <tr style=\"text-align: right;\">\n",
       "      <th></th>\n",
       "      <th>Unnamed: 0</th>\n",
       "      <th>oid</th>\n",
       "      <th>flare_start</th>\n",
       "      <th>m_label</th>\n",
       "      <th>predict_prob</th>\n",
       "      <th>time_series</th>\n",
       "      <th>ra</th>\n",
       "      <th>dec</th>\n",
       "      <th>asteroid</th>\n",
       "      <th>time_maximum</th>\n",
       "      <th>asteroid_name</th>\n",
       "      <th>sharpness_flare_start</th>\n",
       "      <th>sharpness_time_maximum</th>\n",
       "    </tr>\n",
       "  </thead>\n",
       "  <tbody>\n",
       "    <tr>\n",
       "      <th>0</th>\n",
       "      <td>0</td>\n",
       "      <td>538215300072934</td>\n",
       "      <td>58658.26086</td>\n",
       "      <td>defocusing</td>\n",
       "      <td>0.992881</td>\n",
       "      <td>[4.840060000002268, 58658.26086, 17.83841, 0.0...</td>\n",
       "      <td>276.167664</td>\n",
       "      <td>14.295973</td>\n",
       "      <td>False</td>\n",
       "      <td>58658.31492</td>\n",
       "      <td>No object</td>\n",
       "      <td>-0.095</td>\n",
       "      <td>0.212</td>\n",
       "    </tr>\n",
       "    <tr>\n",
       "      <th>1</th>\n",
       "      <td>1</td>\n",
       "      <td>541206100090336</td>\n",
       "      <td>58341.26201</td>\n",
       "      <td>flare</td>\n",
       "      <td>0.999315</td>\n",
       "      <td>[0.04716000000189524, 58341.26201, 18.047487, ...</td>\n",
       "      <td>299.964478</td>\n",
       "      <td>11.103843</td>\n",
       "      <td>True</td>\n",
       "      <td>58341.28139</td>\n",
       "      <td>2002 WQ6</td>\n",
       "      <td>-0.048</td>\n",
       "      <td>0.079</td>\n",
       "    </tr>\n",
       "    <tr>\n",
       "      <th>2</th>\n",
       "      <td>2</td>\n",
       "      <td>332212200167395</td>\n",
       "      <td>58637.36108</td>\n",
       "      <td>asteroid</td>\n",
       "      <td>0.999133</td>\n",
       "      <td>[28.87514999999985, 58637.36108, 18.805794, 0....</td>\n",
       "      <td>266.371735</td>\n",
       "      <td>-15.236836</td>\n",
       "      <td>True</td>\n",
       "      <td>58637.38997</td>\n",
       "      <td>2000 DW34</td>\n",
       "      <td>0.000</td>\n",
       "      <td>0.048</td>\n",
       "    </tr>\n",
       "    <tr>\n",
       "      <th>3</th>\n",
       "      <td>3</td>\n",
       "      <td>385202400036883</td>\n",
       "      <td>58293.36272</td>\n",
       "      <td>asteroid</td>\n",
       "      <td>0.998215</td>\n",
       "      <td>[0.948499999998603, 58293.36272, 17.31565, 0.0...</td>\n",
       "      <td>288.673370</td>\n",
       "      <td>-13.307001</td>\n",
       "      <td>True</td>\n",
       "      <td>58293.39653</td>\n",
       "      <td>Abrarnadroo</td>\n",
       "      <td>-0.058</td>\n",
       "      <td>-0.007</td>\n",
       "    </tr>\n",
       "    <tr>\n",
       "      <th>4</th>\n",
       "      <td>4</td>\n",
       "      <td>385203300127337</td>\n",
       "      <td>58719.17794</td>\n",
       "      <td>defocusing</td>\n",
       "      <td>0.991000</td>\n",
       "      <td>[0.9162500000020373, 58719.17794, 17.343807, 0...</td>\n",
       "      <td>286.659363</td>\n",
       "      <td>-12.873024</td>\n",
       "      <td>False</td>\n",
       "      <td>58719.23762</td>\n",
       "      <td>No object</td>\n",
       "      <td>-0.015</td>\n",
       "      <td>0.013</td>\n",
       "    </tr>\n",
       "  </tbody>\n",
       "</table>\n",
       "</div>"
      ],
      "text/plain": [
       "   Unnamed: 0              oid  flare_start     m_label  predict_prob  \\\n",
       "0           0  538215300072934  58658.26086  defocusing      0.992881   \n",
       "1           1  541206100090336  58341.26201       flare      0.999315   \n",
       "2           2  332212200167395  58637.36108    asteroid      0.999133   \n",
       "3           3  385202400036883  58293.36272    asteroid      0.998215   \n",
       "4           4  385203300127337  58719.17794  defocusing      0.991000   \n",
       "\n",
       "                                         time_series          ra        dec  \\\n",
       "0  [4.840060000002268, 58658.26086, 17.83841, 0.0...  276.167664  14.295973   \n",
       "1  [0.04716000000189524, 58341.26201, 18.047487, ...  299.964478  11.103843   \n",
       "2  [28.87514999999985, 58637.36108, 18.805794, 0....  266.371735 -15.236836   \n",
       "3  [0.948499999998603, 58293.36272, 17.31565, 0.0...  288.673370 -13.307001   \n",
       "4  [0.9162500000020373, 58719.17794, 17.343807, 0...  286.659363 -12.873024   \n",
       "\n",
       "   asteroid  time_maximum asteroid_name  sharpness_flare_start  \\\n",
       "0     False   58658.31492     No object                 -0.095   \n",
       "1      True   58341.28139      2002 WQ6                 -0.048   \n",
       "2      True   58637.38997     2000 DW34                  0.000   \n",
       "3      True   58293.39653   Abrarnadroo                 -0.058   \n",
       "4     False   58719.23762     No object                 -0.015   \n",
       "\n",
       "   sharpness_time_maximum  \n",
       "0                   0.212  \n",
       "1                   0.079  \n",
       "2                   0.048  \n",
       "3                  -0.007  \n",
       "4                   0.013  "
      ]
     },
     "execution_count": 24,
     "metadata": {},
     "output_type": "execute_result"
    }
   ],
   "source": [
    "result = pd.read_csv('test_post_filter.csv')\n",
    "sharpness_df = pf.get_sharpness(result)\n",
    "sharpness_df.head()"
   ]
  },
  {
   "cell_type": "code",
   "execution_count": 18,
   "id": "39c5322a",
   "metadata": {},
   "outputs": [
    {
     "data": {
      "text/html": [
       "<div>\n",
       "<style scoped>\n",
       "    .dataframe tbody tr th:only-of-type {\n",
       "        vertical-align: middle;\n",
       "    }\n",
       "\n",
       "    .dataframe tbody tr th {\n",
       "        vertical-align: top;\n",
       "    }\n",
       "\n",
       "    .dataframe thead th {\n",
       "        text-align: right;\n",
       "    }\n",
       "</style>\n",
       "<table border=\"1\" class=\"dataframe\">\n",
       "  <thead>\n",
       "    <tr style=\"text-align: right;\">\n",
       "      <th></th>\n",
       "      <th>oid</th>\n",
       "      <th>flare_start</th>\n",
       "      <th>m_label</th>\n",
       "      <th>predict_prob</th>\n",
       "      <th>time_series</th>\n",
       "      <th>ra</th>\n",
       "      <th>dec</th>\n",
       "      <th>time_maximum</th>\n",
       "      <th>asteroid</th>\n",
       "      <th>asteroid_name</th>\n",
       "      <th>sharpness_flare_start</th>\n",
       "      <th>sharpness_time_maximum</th>\n",
       "      <th>diff_sharpness</th>\n",
       "    </tr>\n",
       "  </thead>\n",
       "  <tbody>\n",
       "    <tr>\n",
       "      <th>0</th>\n",
       "      <td>538215300072934</td>\n",
       "      <td>58658.26086</td>\n",
       "      <td>defocusing</td>\n",
       "      <td>0.992881</td>\n",
       "      <td>[4.840060000002268, 58658.26086, 17.83841, 0.0...</td>\n",
       "      <td>276.167664</td>\n",
       "      <td>14.295973</td>\n",
       "      <td>58658.31492</td>\n",
       "      <td>False</td>\n",
       "      <td>No object</td>\n",
       "      <td>-0.095</td>\n",
       "      <td>0.212</td>\n",
       "      <td>-0.307</td>\n",
       "    </tr>\n",
       "    <tr>\n",
       "      <th>1</th>\n",
       "      <td>541206100090336</td>\n",
       "      <td>58341.26201</td>\n",
       "      <td>flare</td>\n",
       "      <td>0.999315</td>\n",
       "      <td>[0.04716000000189524, 58341.26201, 18.047487, ...</td>\n",
       "      <td>299.964478</td>\n",
       "      <td>11.103843</td>\n",
       "      <td>58341.28139</td>\n",
       "      <td>True</td>\n",
       "      <td>2002 WQ6</td>\n",
       "      <td>-0.048</td>\n",
       "      <td>0.079</td>\n",
       "      <td>-0.127</td>\n",
       "    </tr>\n",
       "    <tr>\n",
       "      <th>2</th>\n",
       "      <td>332212200167395</td>\n",
       "      <td>58637.36108</td>\n",
       "      <td>asteroid</td>\n",
       "      <td>0.999133</td>\n",
       "      <td>[28.87514999999985, 58637.36108, 18.805794, 0....</td>\n",
       "      <td>266.371735</td>\n",
       "      <td>-15.236836</td>\n",
       "      <td>58637.38997</td>\n",
       "      <td>True</td>\n",
       "      <td>2000 DW34</td>\n",
       "      <td>0.000</td>\n",
       "      <td>0.048</td>\n",
       "      <td>-0.048</td>\n",
       "    </tr>\n",
       "    <tr>\n",
       "      <th>3</th>\n",
       "      <td>385202400036883</td>\n",
       "      <td>58293.36272</td>\n",
       "      <td>asteroid</td>\n",
       "      <td>0.998215</td>\n",
       "      <td>[0.948499999998603, 58293.36272, 17.31565, 0.0...</td>\n",
       "      <td>288.673370</td>\n",
       "      <td>-13.307001</td>\n",
       "      <td>58293.39653</td>\n",
       "      <td>True</td>\n",
       "      <td>Abrarnadroo</td>\n",
       "      <td>-0.058</td>\n",
       "      <td>-0.007</td>\n",
       "      <td>-0.051</td>\n",
       "    </tr>\n",
       "    <tr>\n",
       "      <th>4</th>\n",
       "      <td>385203300127337</td>\n",
       "      <td>58719.17794</td>\n",
       "      <td>defocusing</td>\n",
       "      <td>0.991000</td>\n",
       "      <td>[0.9162500000020373, 58719.17794, 17.343807, 0...</td>\n",
       "      <td>286.659363</td>\n",
       "      <td>-12.873024</td>\n",
       "      <td>58719.23762</td>\n",
       "      <td>False</td>\n",
       "      <td>No object</td>\n",
       "      <td>-0.015</td>\n",
       "      <td>0.013</td>\n",
       "      <td>-0.028</td>\n",
       "    </tr>\n",
       "  </tbody>\n",
       "</table>\n",
       "</div>"
      ],
      "text/plain": [
       "               oid  flare_start     m_label  predict_prob  \\\n",
       "0  538215300072934  58658.26086  defocusing      0.992881   \n",
       "1  541206100090336  58341.26201       flare      0.999315   \n",
       "2  332212200167395  58637.36108    asteroid      0.999133   \n",
       "3  385202400036883  58293.36272    asteroid      0.998215   \n",
       "4  385203300127337  58719.17794  defocusing      0.991000   \n",
       "\n",
       "                                         time_series          ra        dec  \\\n",
       "0  [4.840060000002268, 58658.26086, 17.83841, 0.0...  276.167664  14.295973   \n",
       "1  [0.04716000000189524, 58341.26201, 18.047487, ...  299.964478  11.103843   \n",
       "2  [28.87514999999985, 58637.36108, 18.805794, 0....  266.371735 -15.236836   \n",
       "3  [0.948499999998603, 58293.36272, 17.31565, 0.0...  288.673370 -13.307001   \n",
       "4  [0.9162500000020373, 58719.17794, 17.343807, 0...  286.659363 -12.873024   \n",
       "\n",
       "   time_maximum  asteroid asteroid_name  sharpness_flare_start  \\\n",
       "0   58658.31492     False     No object                 -0.095   \n",
       "1   58341.28139      True      2002 WQ6                 -0.048   \n",
       "2   58637.38997      True     2000 DW34                  0.000   \n",
       "3   58293.39653      True   Abrarnadroo                 -0.058   \n",
       "4   58719.23762     False     No object                 -0.015   \n",
       "\n",
       "   sharpness_time_maximum  diff_sharpness  \n",
       "0                   0.212          -0.307  \n",
       "1                   0.079          -0.127  \n",
       "2                   0.048          -0.048  \n",
       "3                  -0.007          -0.051  \n",
       "4                   0.013          -0.028  "
      ]
     },
     "execution_count": 18,
     "metadata": {},
     "output_type": "execute_result"
    }
   ],
   "source": [
    "sharpness_df['diff_sharpness'] = sharpness_df.sharpness_flare_start - sharpness_df.sharpness_time_maximum\n",
    "sharpness_df.head()"
   ]
  },
  {
   "cell_type": "code",
   "execution_count": 19,
   "id": "2e492d3a",
   "metadata": {},
   "outputs": [
    {
     "name": "stdout",
     "output_type": "stream",
     "text": [
      "<class 'pandas.core.frame.DataFrame'>\n",
      "RangeIndex: 100 entries, 0 to 99\n",
      "Data columns (total 13 columns):\n",
      " #   Column                  Non-Null Count  Dtype  \n",
      "---  ------                  --------------  -----  \n",
      " 0   oid                     100 non-null    int64  \n",
      " 1   flare_start             100 non-null    float64\n",
      " 2   m_label                 90 non-null     object \n",
      " 3   predict_prob            100 non-null    float64\n",
      " 4   time_series             100 non-null    object \n",
      " 5   ra                      100 non-null    float64\n",
      " 6   dec                     100 non-null    float64\n",
      " 7   time_maximum            100 non-null    float64\n",
      " 8   asteroid                100 non-null    bool   \n",
      " 9   asteroid_name           100 non-null    object \n",
      " 10  sharpness_flare_start   97 non-null     float64\n",
      " 11  sharpness_time_maximum  97 non-null     float64\n",
      " 12  diff_sharpness          97 non-null     float64\n",
      "dtypes: bool(1), float64(8), int64(1), object(3)\n",
      "memory usage: 9.6+ KB\n"
     ]
    }
   ],
   "source": [
    "sharpness_df.info()"
   ]
  },
  {
   "cell_type": "code",
   "execution_count": 31,
   "id": "6012249a",
   "metadata": {},
   "outputs": [],
   "source": [
    "n_bins = 20"
   ]
  },
  {
   "cell_type": "code",
   "execution_count": 32,
   "id": "62ffa6c8",
   "metadata": {},
   "outputs": [
    {
     "data": {
      "text/plain": [
       "<AxesSubplot:>"
      ]
     },
     "execution_count": 32,
     "metadata": {},
     "output_type": "execute_result"
    },
    {
     "data": {
      "image/png": "[encoded data removed]",
      "text/plain": [
       "<Figure size 432x288 with 1 Axes>"
      ]
     },
     "metadata": {
      "needs_background": "light"
     },
     "output_type": "display_data"
    }
   ],
   "source": [
    "sharpness_df[sharpness_df.m_label=='flare']['diff_sharpness'].hist(bins=n_bins)"
   ]
  },
  {
   "cell_type": "code",
   "execution_count": 33,
   "id": "b1adf5f1",
   "metadata": {},
   "outputs": [
    {
     "data": {
      "text/plain": [
       "<AxesSubplot:>"
      ]
     },
     "execution_count": 33,
     "metadata": {},
     "output_type": "execute_result"
    },
    {
     "data": {
      "image/png": "[encoded data removed]",
      "text/plain": [
       "<Figure size 432x288 with 1 Axes>"
      ]
     },
     "metadata": {
      "needs_background": "light"
     },
     "output_type": "display_data"
    }
   ],
   "source": [
    "sharpness_df[sharpness_df.m_label=='defocusing']['diff_sharpness'].hist(bins=n_bins)"
   ]
  },
  {
   "cell_type": "code",
   "execution_count": 34,
   "id": "cbefc74e",
   "metadata": {},
   "outputs": [
    {
     "data": {
      "text/plain": [
       "<AxesSubplot:>"
      ]
     },
     "execution_count": 34,
     "metadata": {},
     "output_type": "execute_result"
    },
    {
     "data": {
      "image/png": "[encoded data removed]",
      "text/plain": [
       "<Figure size 432x288 with 1 Axes>"
      ]
     },
     "metadata": {
      "needs_background": "light"
     },
     "output_type": "display_data"
    }
   ],
   "source": [
    "sharpness_df[sharpness_df.m_label=='ghost']['diff_sharpness'].hist(bins=n_bins)"
   ]
  },
  {
   "cell_type": "code",
   "execution_count": 35,
   "id": "17767044",
   "metadata": {},
   "outputs": [
    {
     "data": {
      "text/plain": [
       "<AxesSubplot:>"
      ]
     },
     "execution_count": 35,
     "metadata": {},
     "output_type": "execute_result"
    },
    {
     "data": {
      "image/png": "[encoded data removed]",
      "text/plain": [
       "<Figure size 432x288 with 1 Axes>"
      ]
     },
     "metadata": {
      "needs_background": "light"
     },
     "output_type": "display_data"
    }
   ],
   "source": [
    "sharpness_df[sharpness_df.m_label=='flare']['sharpness_time_maximum'].hist(bins=n_bins)"
   ]
  },
  {
   "cell_type": "code",
   "execution_count": 36,
   "id": "596394e9",
   "metadata": {},
   "outputs": [
    {
     "data": {
      "text/plain": [
       "<AxesSubplot:>"
      ]
     },
     "execution_count": 36,
     "metadata": {},
     "output_type": "execute_result"
    },
    {
     "data": {
      "image/png": "[encoded data removed]",
      "text/plain": [
       "<Figure size 432x288 with 1 Axes>"
      ]
     },
     "metadata": {
      "needs_background": "light"
     },
     "output_type": "display_data"
    }
   ],
   "source": [
    "sharpness_df[sharpness_df.m_label=='defocusing']['sharpness_time_maximum'].hist(bins=n_bins)"
   ]
  },
  {
   "cell_type": "code",
   "execution_count": 37,
   "id": "0ffe3a99",
   "metadata": {},
   "outputs": [
    {
     "data": {
      "text/plain": [
       "<AxesSubplot:>"
      ]
     },
     "execution_count": 37,
     "metadata": {},
     "output_type": "execute_result"
    },
    {
     "data": {
      "image/png": "[encoded data removed]",
      "text/plain": [
       "<Figure size 432x288 with 1 Axes>"
      ]
     },
     "metadata": {
      "needs_background": "light"
     },
     "output_type": "display_data"
    }
   ],
   "source": [
    "sharpness_df[sharpness_df.m_label=='ghost']['sharpness_time_maximum'].hist(bins=n_bins)"
   ]
  },
  {
   "cell_type": "code",
   "execution_count": 38,
   "id": "b34fd25f",
   "metadata": {},
   "outputs": [
    {
     "data": {
      "text/plain": [
       "<AxesSubplot:>"
      ]
     },
     "execution_count": 38,
     "metadata": {},
     "output_type": "execute_result"
    },
    {
     "data": {
      "image/png": "[encoded data removed]",
      "text/plain": [
       "<Figure size 432x288 with 1 Axes>"
      ]
     },
     "metadata": {
      "needs_background": "light"
     },
     "output_type": "display_data"
    }
   ],
   "source": [
    "sharpness_df[sharpness_df.m_label!='flare']['sharpness_time_maximum'].hist(bins=n_bins)"
   ]
  }
 ],
 "metadata": {
  "kernelspec": {
   "display_name": "base",
   "language": "python",
   "name": "python3"
  },
  "language_info": {
   "codemirror_mode": {
    "name": "ipython",
    "version": 3
   },
   "file_extension": ".py",
   "mimetype": "text/x-python",
   "name": "python",
   "nbconvert_exporter": "python",
   "pygments_lexer": "ipython3",
   "version": "3.8.5"
  },
  "notebookId": "43f182ae-51de-4005-b628-13cfed35e382",
  "notebookPath": "nb/post filter/get_oid_data.ipynb"
 },
 "nbformat": 4,
 "nbformat_minor": 5
}
